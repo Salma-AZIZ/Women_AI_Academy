{
 "cells": [
  {
   "cell_type": "markdown",
   "id": "17016f61-c190-492b-9e40-c9662520c31e",
   "metadata": {
    "tags": []
   },
   "source": [
    "# Supervised Learning : Regression task"
   ]
  },
  {
   "cell_type": "markdown",
   "id": "ddfaf23c-0365-4f0d-bec5-8d00121fc0ba",
   "metadata": {
    "tags": []
   },
   "source": [
    "## Context "
   ]
  },
  {
   "cell_type": "markdown",
   "id": "d8aa9f31-1661-449c-b1a5-b9e0a2d1860b",
   "metadata": {},
   "source": [
    "The California Housing dataset represents data collected from the 1990 California census. It's often used in machine learning for practicing regression algorithms, as the goal is typically to predict the median house value in different districts, given a number of features from those districts.\n",
    "\n",
    "In our activity, we are simulating the role of a data scientist who is tasked with predicting house prices in California. This is an important task as it could inform a variety of stakeholders. For example, real estate investors may be interested in this model to identify undervalued areas, while government agencies may use it to inform policy decisions or identify areas in need of investment.\n",
    "\n",
    "The dataset has nine features: median income, housing average age, average rooms, average bedrooms, population, average occupation, latitude, and longitude. We are predicting the median house value.\n",
    "\n",
    "Our goal in this exercise is to train a linear regression model that can accurately predict the median house value based on these features. Before we train our model, we'll need to preprocess the data by filling in missing values and scaling the features.\n",
    "\n",
    "Once our model is trained, we'll evaluate its performance using the Mean Squared Error (MSE) and R² score. These metrics will give us insight into how well our model performs and whether it's ready to be deployed in a real-world application, or if it needs further tuning."
   ]
  },
  {
   "cell_type": "markdown",
   "id": "41b3b2c2-4640-4dbb-b4f0-d8d1f74a9b11",
   "metadata": {},
   "source": [
    "## Import necessary libraries and modules"
   ]
  },
  {
   "cell_type": "code",
   "execution_count": 2,
   "id": "2a7e71c7-d5fb-4982-8b60-682cdf912100",
   "metadata": {},
   "outputs": [],
   "source": [
    "import pandas as pd\n",
    "import numpy as np\n",
    "\n",
    "import matplotlib.pyplot as plt\n",
    "import seaborn as sns\n",
    "\n",
    "from sklearn.datasets import fetch_california_housing # To load the California housing dataset\n",
    "\n",
    "from sklearn.model_selection import train_test_split \n",
    "from sklearn.linear_model import LinearRegression # For the linear regression model.\n",
    "from sklearn.metrics import mean_squared_error, r2_score # For evaluating our model.\n",
    "\n",
    "from sklearn.preprocessing import StandardScaler # For scaling our features, requirement for linear regression model"
   ]
  },
  {
   "cell_type": "markdown",
   "id": "01e979ee-99c6-45cd-ad82-8bf2f50783ba",
   "metadata": {},
   "source": [
    "In this step, we import all the necessary Python libraries. Pandas and numpy are used for data manipulation, sklearn for machine learning tasks, and matplotlib and seaborn for data visualization."
   ]
  },
  {
   "cell_type": "markdown",
   "id": "951c513e-49a3-421b-8702-ce7660b27324",
   "metadata": {},
   "source": [
    "# Data exploration"
   ]
  },
  {
   "cell_type": "markdown",
   "id": "ea002c7b-034c-4eb4-bec7-8e8f2df84ae3",
   "metadata": {},
   "source": [
    "## 1. Load the California Housing dataset"
   ]
  },
  {
   "cell_type": "code",
   "execution_count": 3,
   "id": "71a9ed60-d521-4311-af88-8073c2bf7a75",
   "metadata": {},
   "outputs": [],
   "source": [
    "# fetches the California housing dataset\n",
    "california_dataset = fetch_california_housing()"
   ]
  },
  {
   "cell_type": "markdown",
   "id": "8d7587f2-f521-4ba1-a3a1-ef3c781dbed8",
   "metadata": {
    "tags": []
   },
   "source": [
    "### Understanding the Data"
   ]
  },
  {
   "cell_type": "code",
   "execution_count": 3,
   "id": "635e1b81-bf3f-4afc-ac37-65abb15c7f06",
   "metadata": {},
   "outputs": [
    {
     "data": {
      "text/plain": [
       "dict_keys(['data', 'target', 'frame', 'target_names', 'feature_names', 'DESCR'])"
      ]
     },
     "execution_count": 3,
     "metadata": {},
     "output_type": "execute_result"
    }
   ],
   "source": [
    "california_dataset.keys()"
   ]
  },
  {
   "cell_type": "markdown",
   "id": "189e7df3-0257-4a14-992d-a97df531cc2e",
   "metadata": {},
   "source": [
    "- **Target name**"
   ]
  },
  {
   "cell_type": "code",
   "execution_count": 4,
   "id": "fbb526c6-a391-445b-9b34-7e81fa707018",
   "metadata": {},
   "outputs": [
    {
     "data": {
      "text/plain": [
       "['MedHouseVal']"
      ]
     },
     "execution_count": 4,
     "metadata": {},
     "output_type": "execute_result"
    }
   ],
   "source": [
    "california_dataset.target_names"
   ]
  },
  {
   "cell_type": "markdown",
   "id": "071296e0-5fe3-4e3a-b792-d54c53c3f7b2",
   "metadata": {},
   "source": [
    "- **Features names**"
   ]
  },
  {
   "cell_type": "code",
   "execution_count": 5,
   "id": "c21caeef-4a8b-4dbd-a944-693bf19833d0",
   "metadata": {},
   "outputs": [
    {
     "data": {
      "text/plain": [
       "['MedInc',\n",
       " 'HouseAge',\n",
       " 'AveRooms',\n",
       " 'AveBedrms',\n",
       " 'Population',\n",
       " 'AveOccup',\n",
       " 'Latitude',\n",
       " 'Longitude']"
      ]
     },
     "execution_count": 5,
     "metadata": {},
     "output_type": "execute_result"
    }
   ],
   "source": [
    "california_dataset.feature_names"
   ]
  },
  {
   "cell_type": "markdown",
   "id": "34e766e8-0029-423d-b66d-94503299bcbe",
   "metadata": {},
   "source": [
    "- **Data Set Characteristics**"
   ]
  },
  {
   "cell_type": "code",
   "execution_count": 6,
   "id": "10d37a89-37d8-40d8-b8b0-28f272e302aa",
   "metadata": {},
   "outputs": [
    {
     "name": "stdout",
     "output_type": "stream",
     "text": [
      ".. _california_housing_dataset:\n",
      "\n",
      "California Housing dataset\n",
      "--------------------------\n",
      "\n",
      "**Data Set Characteristics:**\n",
      "\n",
      "    :Number of Instances: 20640\n",
      "\n",
      "    :Number of Attributes: 8 numeric, predictive attributes and the target\n",
      "\n",
      "    :Attribute Information:\n",
      "        - MedInc        median income in block group\n",
      "        - HouseAge      median house age in block group\n",
      "        - AveRooms      average number of rooms per household\n",
      "        - AveBedrms     average number of bedrooms per household\n",
      "        - Population    block group population\n",
      "        - AveOccup      average number of household members\n",
      "        - Latitude      block group latitude\n",
      "        - Longitude     block group longitude\n",
      "\n",
      "    :Missing Attribute Values: None\n",
      "\n",
      "This dataset was obtained from the StatLib repository.\n",
      "https://www.dcc.fc.up.pt/~ltorgo/Regression/cal_housing.html\n",
      "\n",
      "The target variable is the median house value for California districts,\n",
      "expressed in hundreds of thousands of dollars ($100,000).\n",
      "\n",
      "This dataset was derived from the 1990 U.S. census, using one row per census\n",
      "block group. A block group is the smallest geographical unit for which the U.S.\n",
      "Census Bureau publishes sample data (a block group typically has a population\n",
      "of 600 to 3,000 people).\n",
      "\n",
      "An household is a group of people residing within a home. Since the average\n",
      "number of rooms and bedrooms in this dataset are provided per household, these\n",
      "columns may take surpinsingly large values for block groups with few households\n",
      "and many empty houses, such as vacation resorts.\n",
      "\n",
      "It can be downloaded/loaded using the\n",
      ":func:`sklearn.datasets.fetch_california_housing` function.\n",
      "\n",
      ".. topic:: References\n",
      "\n",
      "    - Pace, R. Kelley and Ronald Barry, Sparse Spatial Autoregressions,\n",
      "      Statistics and Probability Letters, 33 (1997) 291-297\n",
      "\n"
     ]
    }
   ],
   "source": [
    "# description of the dataset\n",
    "print(california_dataset.DESCR)"
   ]
  },
  {
   "cell_type": "markdown",
   "id": "90f69f67-e79f-40ad-b992-3cc7de01c3c1",
   "metadata": {},
   "source": [
    "### Convert the data to a DataFrame"
   ]
  },
  {
   "cell_type": "code",
   "execution_count": 4,
   "id": "779f0028-a326-4b2d-ab42-1438def72c27",
   "metadata": {},
   "outputs": [],
   "source": [
    "# Convert the data to a DataFrame\n",
    "df = pd.DataFrame(california_dataset.data, columns=california_dataset.feature_names)\n",
    "df['MedianHouseValue'] = california_dataset.target"
   ]
  },
  {
   "cell_type": "markdown",
   "id": "5b6886d6-4c9f-4a6a-8a5c-1b1046f3770a",
   "metadata": {},
   "source": [
    "We create a pandas DataFrame from the data and name our columns using the feature names provided in the dataset (to facilitate easier data manipulation). \n",
    "\n",
    "Then, we add a new column `MedianHouseValue` which is our target variable to predict."
   ]
  },
  {
   "cell_type": "code",
   "execution_count": 8,
   "id": "d7c00784-6fcd-4486-ab85-a9c3c32c8278",
   "metadata": {},
   "outputs": [
    {
     "data": {
      "text/html": [
       "<div>\n",
       "<style scoped>\n",
       "    .dataframe tbody tr th:only-of-type {\n",
       "        vertical-align: middle;\n",
       "    }\n",
       "\n",
       "    .dataframe tbody tr th {\n",
       "        vertical-align: top;\n",
       "    }\n",
       "\n",
       "    .dataframe thead th {\n",
       "        text-align: right;\n",
       "    }\n",
       "</style>\n",
       "<table border=\"1\" class=\"dataframe\">\n",
       "  <thead>\n",
       "    <tr style=\"text-align: right;\">\n",
       "      <th></th>\n",
       "      <th>MedInc</th>\n",
       "      <th>HouseAge</th>\n",
       "      <th>AveRooms</th>\n",
       "      <th>AveBedrms</th>\n",
       "      <th>Population</th>\n",
       "      <th>AveOccup</th>\n",
       "      <th>Latitude</th>\n",
       "      <th>Longitude</th>\n",
       "      <th>MedianHouseValue</th>\n",
       "    </tr>\n",
       "  </thead>\n",
       "  <tbody>\n",
       "    <tr>\n",
       "      <th>0</th>\n",
       "      <td>8.3252</td>\n",
       "      <td>41.0</td>\n",
       "      <td>6.984127</td>\n",
       "      <td>1.023810</td>\n",
       "      <td>322.0</td>\n",
       "      <td>2.555556</td>\n",
       "      <td>37.88</td>\n",
       "      <td>-122.23</td>\n",
       "      <td>4.526</td>\n",
       "    </tr>\n",
       "    <tr>\n",
       "      <th>1</th>\n",
       "      <td>8.3014</td>\n",
       "      <td>21.0</td>\n",
       "      <td>6.238137</td>\n",
       "      <td>0.971880</td>\n",
       "      <td>2401.0</td>\n",
       "      <td>2.109842</td>\n",
       "      <td>37.86</td>\n",
       "      <td>-122.22</td>\n",
       "      <td>3.585</td>\n",
       "    </tr>\n",
       "    <tr>\n",
       "      <th>2</th>\n",
       "      <td>7.2574</td>\n",
       "      <td>52.0</td>\n",
       "      <td>8.288136</td>\n",
       "      <td>1.073446</td>\n",
       "      <td>496.0</td>\n",
       "      <td>2.802260</td>\n",
       "      <td>37.85</td>\n",
       "      <td>-122.24</td>\n",
       "      <td>3.521</td>\n",
       "    </tr>\n",
       "    <tr>\n",
       "      <th>3</th>\n",
       "      <td>5.6431</td>\n",
       "      <td>52.0</td>\n",
       "      <td>5.817352</td>\n",
       "      <td>1.073059</td>\n",
       "      <td>558.0</td>\n",
       "      <td>2.547945</td>\n",
       "      <td>37.85</td>\n",
       "      <td>-122.25</td>\n",
       "      <td>3.413</td>\n",
       "    </tr>\n",
       "    <tr>\n",
       "      <th>4</th>\n",
       "      <td>3.8462</td>\n",
       "      <td>52.0</td>\n",
       "      <td>6.281853</td>\n",
       "      <td>1.081081</td>\n",
       "      <td>565.0</td>\n",
       "      <td>2.181467</td>\n",
       "      <td>37.85</td>\n",
       "      <td>-122.25</td>\n",
       "      <td>3.422</td>\n",
       "    </tr>\n",
       "  </tbody>\n",
       "</table>\n",
       "</div>"
      ],
      "text/plain": [
       "   MedInc  HouseAge  AveRooms  AveBedrms  Population  AveOccup  Latitude  \\\n",
       "0  8.3252      41.0  6.984127   1.023810       322.0  2.555556     37.88   \n",
       "1  8.3014      21.0  6.238137   0.971880      2401.0  2.109842     37.86   \n",
       "2  7.2574      52.0  8.288136   1.073446       496.0  2.802260     37.85   \n",
       "3  5.6431      52.0  5.817352   1.073059       558.0  2.547945     37.85   \n",
       "4  3.8462      52.0  6.281853   1.081081       565.0  2.181467     37.85   \n",
       "\n",
       "   Longitude  MedianHouseValue  \n",
       "0    -122.23             4.526  \n",
       "1    -122.22             3.585  \n",
       "2    -122.24             3.521  \n",
       "3    -122.25             3.413  \n",
       "4    -122.25             3.422  "
      ]
     },
     "execution_count": 8,
     "metadata": {},
     "output_type": "execute_result"
    }
   ],
   "source": [
    "df.head()"
   ]
  },
  {
   "cell_type": "markdown",
   "id": "dde54813-d083-46c2-bd49-196147d253d7",
   "metadata": {},
   "source": [
    "## 2. Exploratory Data Analysis"
   ]
  },
  {
   "cell_type": "code",
   "execution_count": 71,
   "id": "a0b70fd1-d534-4cee-ab29-e5ecb092c0b5",
   "metadata": {},
   "outputs": [],
   "source": [
    "#sns.pairplot(df)"
   ]
  },
  {
   "cell_type": "code",
   "execution_count": 9,
   "id": "58c200d3-8a7c-40c4-9a96-e50e74e87830",
   "metadata": {},
   "outputs": [
    {
     "data": {
      "image/png": "[encoded data removed]",
      "text/plain": [
       "<Figure size 1440x180 with 8 Axes>"
      ]
     },
     "metadata": {},
     "output_type": "display_data"
    }
   ],
   "source": [
    "sns.set(style=\"ticks\", color_codes=True)\n",
    "sns.pairplot(df, y_vars=[\"MedianHouseValue\"], x_vars=california_dataset.feature_names)\n",
    "plt.show()"
   ]
  },
  {
   "cell_type": "markdown",
   "id": "c53e0049-ec70-46ce-87b7-7bedfd15a599",
   "metadata": {},
   "source": [
    "We create a pairplot which shows scatterplots between our chosen target variable (MedianHouseValue) and every feature in the dataset. This helps us visualize the relationship between the target and the features."
   ]
  },
  {
   "cell_type": "markdown",
   "id": "b9b594b5-becb-45c7-967c-89f81cf795ba",
   "metadata": {},
   "source": [
    "- **Correlation**"
   ]
  },
  {
   "cell_type": "markdown",
   "id": "b602065b-09cb-46d7-b663-8ba32983d810",
   "metadata": {},
   "source": [
    "Correlation is a statistical measure that describes the degree to which two variables move in relation to each other. In other words, it tells us how much one variable tends to change when the other one does.\n",
    "\n",
    "In the context of linear regression, correlation plays a key role in understanding the relationship between the independent and dependent variables.\n",
    "\n",
    "Here's how correlation is important in linear regression:\n",
    "\n",
    "- **Strength of relationship:** The correlation coefficient indicates how strongly the independent and dependent variables are related. A correlation coefficient near 1 or -1 indicates a strong linear relationship, meaning that changes in the independent variable are likely to be associated with substantial changes in the dependent variable.\n",
    "\n",
    "- **Direction of relationship** The sign of the correlation coefficient suggests the direction of the relationship. A positive correlation indicates that the dependent and independent variables tend to increase or decrease together. A negative correlation suggests that as one variable increases, the other tends to decrease.\n",
    "\n",
    "- **Model appropriateness** High absolute correlation is an indication that linear regression could be a suitable modeling technique. If there's no correlation (i.e., the correlation coefficient is close to zero), then a linear regression model may not be appropriate because it implies there's no linear relationship between the variables.\n",
    "\n",
    "- **Multicollinearity:** In multiple linear regression (with more than one independent variable), we often check the correlations between independent variables. If two independent variables are highly correlated (a condition known as multicollinearity), it can make it difficult to determine the effect of each variable on the dependent variable. This can lead to unstable estimates of the model coefficients and make interpretation difficult.\n",
    "\n",
    "However, it's important to remember that correlation is a measure of linear relationship, and some variables may be related in non-linear ways. Therefore, a low correlation doesn't always mean that there's no relationship between variables. Also, as always, correlation does not imply causation – a regression model simply shows how variables are related, not whether one variable's changes cause the other's."
   ]
  },
  {
   "cell_type": "code",
   "execution_count": 6,
   "id": "01cff7d9-39f5-4a34-a7da-43b53ae5a3e5",
   "metadata": {},
   "outputs": [
    {
     "data": {
      "text/html": [
       "<div>\n",
       "<style scoped>\n",
       "    .dataframe tbody tr th:only-of-type {\n",
       "        vertical-align: middle;\n",
       "    }\n",
       "\n",
       "    .dataframe tbody tr th {\n",
       "        vertical-align: top;\n",
       "    }\n",
       "\n",
       "    .dataframe thead th {\n",
       "        text-align: right;\n",
       "    }\n",
       "</style>\n",
       "<table border=\"1\" class=\"dataframe\">\n",
       "  <thead>\n",
       "    <tr style=\"text-align: right;\">\n",
       "      <th></th>\n",
       "      <th>MedInc</th>\n",
       "      <th>HouseAge</th>\n",
       "      <th>AveRooms</th>\n",
       "      <th>AveBedrms</th>\n",
       "      <th>Population</th>\n",
       "      <th>AveOccup</th>\n",
       "      <th>Latitude</th>\n",
       "      <th>Longitude</th>\n",
       "      <th>MedianHouseValue</th>\n",
       "    </tr>\n",
       "  </thead>\n",
       "  <tbody>\n",
       "    <tr>\n",
       "      <th>MedInc</th>\n",
       "      <td>1.000000</td>\n",
       "      <td>-0.119034</td>\n",
       "      <td>0.326895</td>\n",
       "      <td>-0.062040</td>\n",
       "      <td>0.004834</td>\n",
       "      <td>0.018766</td>\n",
       "      <td>-0.079809</td>\n",
       "      <td>-0.015176</td>\n",
       "      <td>0.688075</td>\n",
       "    </tr>\n",
       "    <tr>\n",
       "      <th>HouseAge</th>\n",
       "      <td>-0.119034</td>\n",
       "      <td>1.000000</td>\n",
       "      <td>-0.153277</td>\n",
       "      <td>-0.077747</td>\n",
       "      <td>-0.296244</td>\n",
       "      <td>0.013191</td>\n",
       "      <td>0.011173</td>\n",
       "      <td>-0.108197</td>\n",
       "      <td>0.105623</td>\n",
       "    </tr>\n",
       "    <tr>\n",
       "      <th>AveRooms</th>\n",
       "      <td>0.326895</td>\n",
       "      <td>-0.153277</td>\n",
       "      <td>1.000000</td>\n",
       "      <td>0.847621</td>\n",
       "      <td>-0.072213</td>\n",
       "      <td>-0.004852</td>\n",
       "      <td>0.106389</td>\n",
       "      <td>-0.027540</td>\n",
       "      <td>0.151948</td>\n",
       "    </tr>\n",
       "    <tr>\n",
       "      <th>AveBedrms</th>\n",
       "      <td>-0.062040</td>\n",
       "      <td>-0.077747</td>\n",
       "      <td>0.847621</td>\n",
       "      <td>1.000000</td>\n",
       "      <td>-0.066197</td>\n",
       "      <td>-0.006181</td>\n",
       "      <td>0.069721</td>\n",
       "      <td>0.013344</td>\n",
       "      <td>-0.046701</td>\n",
       "    </tr>\n",
       "    <tr>\n",
       "      <th>Population</th>\n",
       "      <td>0.004834</td>\n",
       "      <td>-0.296244</td>\n",
       "      <td>-0.072213</td>\n",
       "      <td>-0.066197</td>\n",
       "      <td>1.000000</td>\n",
       "      <td>0.069863</td>\n",
       "      <td>-0.108785</td>\n",
       "      <td>0.099773</td>\n",
       "      <td>-0.024650</td>\n",
       "    </tr>\n",
       "    <tr>\n",
       "      <th>AveOccup</th>\n",
       "      <td>0.018766</td>\n",
       "      <td>0.013191</td>\n",
       "      <td>-0.004852</td>\n",
       "      <td>-0.006181</td>\n",
       "      <td>0.069863</td>\n",
       "      <td>1.000000</td>\n",
       "      <td>0.002366</td>\n",
       "      <td>0.002476</td>\n",
       "      <td>-0.023737</td>\n",
       "    </tr>\n",
       "    <tr>\n",
       "      <th>Latitude</th>\n",
       "      <td>-0.079809</td>\n",
       "      <td>0.011173</td>\n",
       "      <td>0.106389</td>\n",
       "      <td>0.069721</td>\n",
       "      <td>-0.108785</td>\n",
       "      <td>0.002366</td>\n",
       "      <td>1.000000</td>\n",
       "      <td>-0.924664</td>\n",
       "      <td>-0.144160</td>\n",
       "    </tr>\n",
       "    <tr>\n",
       "      <th>Longitude</th>\n",
       "      <td>-0.015176</td>\n",
       "      <td>-0.108197</td>\n",
       "      <td>-0.027540</td>\n",
       "      <td>0.013344</td>\n",
       "      <td>0.099773</td>\n",
       "      <td>0.002476</td>\n",
       "      <td>-0.924664</td>\n",
       "      <td>1.000000</td>\n",
       "      <td>-0.045967</td>\n",
       "    </tr>\n",
       "    <tr>\n",
       "      <th>MedianHouseValue</th>\n",
       "      <td>0.688075</td>\n",
       "      <td>0.105623</td>\n",
       "      <td>0.151948</td>\n",
       "      <td>-0.046701</td>\n",
       "      <td>-0.024650</td>\n",
       "      <td>-0.023737</td>\n",
       "      <td>-0.144160</td>\n",
       "      <td>-0.045967</td>\n",
       "      <td>1.000000</td>\n",
       "    </tr>\n",
       "  </tbody>\n",
       "</table>\n",
       "</div>"
      ],
      "text/plain": [
       "                    MedInc  HouseAge  AveRooms  AveBedrms  Population  \\\n",
       "MedInc            1.000000 -0.119034  0.326895  -0.062040    0.004834   \n",
       "HouseAge         -0.119034  1.000000 -0.153277  -0.077747   -0.296244   \n",
       "AveRooms          0.326895 -0.153277  1.000000   0.847621   -0.072213   \n",
       "AveBedrms        -0.062040 -0.077747  0.847621   1.000000   -0.066197   \n",
       "Population        0.004834 -0.296244 -0.072213  -0.066197    1.000000   \n",
       "AveOccup          0.018766  0.013191 -0.004852  -0.006181    0.069863   \n",
       "Latitude         -0.079809  0.011173  0.106389   0.069721   -0.108785   \n",
       "Longitude        -0.015176 -0.108197 -0.027540   0.013344    0.099773   \n",
       "MedianHouseValue  0.688075  0.105623  0.151948  -0.046701   -0.024650   \n",
       "\n",
       "                  AveOccup  Latitude  Longitude  MedianHouseValue  \n",
       "MedInc            0.018766 -0.079809  -0.015176          0.688075  \n",
       "HouseAge          0.013191  0.011173  -0.108197          0.105623  \n",
       "AveRooms         -0.004852  0.106389  -0.027540          0.151948  \n",
       "AveBedrms        -0.006181  0.069721   0.013344         -0.046701  \n",
       "Population        0.069863 -0.108785   0.099773         -0.024650  \n",
       "AveOccup          1.000000  0.002366   0.002476         -0.023737  \n",
       "Latitude          0.002366  1.000000  -0.924664         -0.144160  \n",
       "Longitude         0.002476 -0.924664   1.000000         -0.045967  \n",
       "MedianHouseValue -0.023737 -0.144160  -0.045967          1.000000  "
      ]
     },
     "execution_count": 6,
     "metadata": {},
     "output_type": "execute_result"
    }
   ],
   "source": [
    "df.corr()"
   ]
  },
  {
   "cell_type": "code",
   "execution_count": 9,
   "id": "ebee97d2-69a6-4d82-b320-c1282959a390",
   "metadata": {},
   "outputs": [
    {
     "data": {
      "image/png": "[encoded data removed]",
      "text/plain": [
       "<Figure size 720x720 with 2 Axes>"
      ]
     },
     "metadata": {
      "needs_background": "light"
     },
     "output_type": "display_data"
    }
   ],
   "source": [
    "plt.figure(figsize = (10,10))\n",
    "sns.heatmap(df.corr())\n",
    "plt.show()"
   ]
  },
  {
   "cell_type": "code",
   "execution_count": 10,
   "id": "220037ce-35bf-4ebe-ad3c-2e1116729b7f",
   "metadata": {},
   "outputs": [
    {
     "data": {
      "text/html": [
       "<div>\n",
       "<style scoped>\n",
       "    .dataframe tbody tr th:only-of-type {\n",
       "        vertical-align: middle;\n",
       "    }\n",
       "\n",
       "    .dataframe tbody tr th {\n",
       "        vertical-align: top;\n",
       "    }\n",
       "\n",
       "    .dataframe thead th {\n",
       "        text-align: right;\n",
       "    }\n",
       "</style>\n",
       "<table border=\"1\" class=\"dataframe\">\n",
       "  <thead>\n",
       "    <tr style=\"text-align: right;\">\n",
       "      <th></th>\n",
       "      <th>MedInc</th>\n",
       "      <th>HouseAge</th>\n",
       "      <th>AveRooms</th>\n",
       "      <th>AveBedrms</th>\n",
       "      <th>Population</th>\n",
       "      <th>AveOccup</th>\n",
       "      <th>Latitude</th>\n",
       "      <th>Longitude</th>\n",
       "      <th>MedianHouseValue</th>\n",
       "    </tr>\n",
       "  </thead>\n",
       "  <tbody>\n",
       "    <tr>\n",
       "      <th>count</th>\n",
       "      <td>20640.000000</td>\n",
       "      <td>20640.000000</td>\n",
       "      <td>20640.000000</td>\n",
       "      <td>20640.000000</td>\n",
       "      <td>20640.000000</td>\n",
       "      <td>20640.000000</td>\n",
       "      <td>20640.000000</td>\n",
       "      <td>20640.000000</td>\n",
       "      <td>20640.000000</td>\n",
       "    </tr>\n",
       "    <tr>\n",
       "      <th>mean</th>\n",
       "      <td>3.870671</td>\n",
       "      <td>28.639486</td>\n",
       "      <td>5.429000</td>\n",
       "      <td>1.096675</td>\n",
       "      <td>1425.476744</td>\n",
       "      <td>3.070655</td>\n",
       "      <td>35.631861</td>\n",
       "      <td>-119.569704</td>\n",
       "      <td>2.068558</td>\n",
       "    </tr>\n",
       "    <tr>\n",
       "      <th>std</th>\n",
       "      <td>1.899822</td>\n",
       "      <td>12.585558</td>\n",
       "      <td>2.474173</td>\n",
       "      <td>0.473911</td>\n",
       "      <td>1132.462122</td>\n",
       "      <td>10.386050</td>\n",
       "      <td>2.135952</td>\n",
       "      <td>2.003532</td>\n",
       "      <td>1.153956</td>\n",
       "    </tr>\n",
       "    <tr>\n",
       "      <th>min</th>\n",
       "      <td>0.499900</td>\n",
       "      <td>1.000000</td>\n",
       "      <td>0.846154</td>\n",
       "      <td>0.333333</td>\n",
       "      <td>3.000000</td>\n",
       "      <td>0.692308</td>\n",
       "      <td>32.540000</td>\n",
       "      <td>-124.350000</td>\n",
       "      <td>0.149990</td>\n",
       "    </tr>\n",
       "    <tr>\n",
       "      <th>25%</th>\n",
       "      <td>2.563400</td>\n",
       "      <td>18.000000</td>\n",
       "      <td>4.440716</td>\n",
       "      <td>1.006079</td>\n",
       "      <td>787.000000</td>\n",
       "      <td>2.429741</td>\n",
       "      <td>33.930000</td>\n",
       "      <td>-121.800000</td>\n",
       "      <td>1.196000</td>\n",
       "    </tr>\n",
       "    <tr>\n",
       "      <th>50%</th>\n",
       "      <td>3.534800</td>\n",
       "      <td>29.000000</td>\n",
       "      <td>5.229129</td>\n",
       "      <td>1.048780</td>\n",
       "      <td>1166.000000</td>\n",
       "      <td>2.818116</td>\n",
       "      <td>34.260000</td>\n",
       "      <td>-118.490000</td>\n",
       "      <td>1.797000</td>\n",
       "    </tr>\n",
       "    <tr>\n",
       "      <th>75%</th>\n",
       "      <td>4.743250</td>\n",
       "      <td>37.000000</td>\n",
       "      <td>6.052381</td>\n",
       "      <td>1.099526</td>\n",
       "      <td>1725.000000</td>\n",
       "      <td>3.282261</td>\n",
       "      <td>37.710000</td>\n",
       "      <td>-118.010000</td>\n",
       "      <td>2.647250</td>\n",
       "    </tr>\n",
       "    <tr>\n",
       "      <th>max</th>\n",
       "      <td>15.000100</td>\n",
       "      <td>52.000000</td>\n",
       "      <td>141.909091</td>\n",
       "      <td>34.066667</td>\n",
       "      <td>35682.000000</td>\n",
       "      <td>1243.333333</td>\n",
       "      <td>41.950000</td>\n",
       "      <td>-114.310000</td>\n",
       "      <td>5.000010</td>\n",
       "    </tr>\n",
       "  </tbody>\n",
       "</table>\n",
       "</div>"
      ],
      "text/plain": [
       "             MedInc      HouseAge      AveRooms     AveBedrms    Population  \\\n",
       "count  20640.000000  20640.000000  20640.000000  20640.000000  20640.000000   \n",
       "mean       3.870671     28.639486      5.429000      1.096675   1425.476744   \n",
       "std        1.899822     12.585558      2.474173      0.473911   1132.462122   \n",
       "min        0.499900      1.000000      0.846154      0.333333      3.000000   \n",
       "25%        2.563400     18.000000      4.440716      1.006079    787.000000   \n",
       "50%        3.534800     29.000000      5.229129      1.048780   1166.000000   \n",
       "75%        4.743250     37.000000      6.052381      1.099526   1725.000000   \n",
       "max       15.000100     52.000000    141.909091     34.066667  35682.000000   \n",
       "\n",
       "           AveOccup      Latitude     Longitude  MedianHouseValue  \n",
       "count  20640.000000  20640.000000  20640.000000      20640.000000  \n",
       "mean       3.070655     35.631861   -119.569704          2.068558  \n",
       "std       10.386050      2.135952      2.003532          1.153956  \n",
       "min        0.692308     32.540000   -124.350000          0.149990  \n",
       "25%        2.429741     33.930000   -121.800000          1.196000  \n",
       "50%        2.818116     34.260000   -118.490000          1.797000  \n",
       "75%        3.282261     37.710000   -118.010000          2.647250  \n",
       "max     1243.333333     41.950000   -114.310000          5.000010  "
      ]
     },
     "execution_count": 10,
     "metadata": {},
     "output_type": "execute_result"
    }
   ],
   "source": [
    "df.describe()"
   ]
  },
  {
   "cell_type": "markdown",
   "id": "e9ee2746-db85-485e-8cfc-7180b40a668b",
   "metadata": {
    "tags": []
   },
   "source": [
    "## 3. Data Cleaning and Preprocessing"
   ]
  },
  {
   "cell_type": "markdown",
   "id": "efe305ab-7f84-4bc0-8ee0-f7961edc5491",
   "metadata": {},
   "source": [
    "#### **Missing value**"
   ]
  },
  {
   "cell_type": "code",
   "execution_count": 10,
   "id": "85d34234-15d5-4cbb-8bfe-0af9814e6000",
   "metadata": {},
   "outputs": [
    {
     "data": {
      "text/plain": [
       "MedInc              0\n",
       "HouseAge            0\n",
       "AveRooms            0\n",
       "AveBedrms           0\n",
       "Population          0\n",
       "AveOccup            0\n",
       "Latitude            0\n",
       "Longitude           0\n",
       "MedianHouseValue    0\n",
       "dtype: int64"
      ]
     },
     "execution_count": 10,
     "metadata": {},
     "output_type": "execute_result"
    }
   ],
   "source": [
    "df.isna().sum()"
   ]
  },
  {
   "cell_type": "markdown",
   "id": "4418cb9b-4593-4b17-af48-45deca62c754",
   "metadata": {},
   "source": [
    "No missing values in the data"
   ]
  },
  {
   "cell_type": "markdown",
   "id": "323b367b-5a13-4cc6-b0e4-92f595808925",
   "metadata": {},
   "source": [
    "#### **Feature Scaling**"
   ]
  },
  {
   "cell_type": "markdown",
   "id": "eec3fc60-6d6e-4181-be60-5cc0a8ea511f",
   "metadata": {},
   "source": [
    "Feature scaling is a method used to standardize the range of features of data. In other words, it's a way to get all your data on the same scale. This makes it easier for machine learning algorithms to learn.\n",
    "\n",
    "For example, an income range of 0 to 10,000 dollars might overshadow an age range of 0 to 100 years in some algorithms.\n",
    "\n",
    "To prevent this, we use feature scaling. There are a few different methods:\n",
    "\n",
    "- **Normalization (or Min-Max Scaling):** This method scales all features to a fixed range between 0 and 1. It subtracts the minimum value of the feature and then divides by the range of the feature (maximum - minimum).\n",
    "\n",
    "In our example, the age would still range from 0 to 1 (e.g., 50 years old would become 0.5), and the income would also range from 0 to 1 (e.g., $5000 would become 0.5). Now, both features are on the same scale.\n",
    "\n",
    "- **Standardization:** This method subtracts the mean (average) value of the feature and then divides by the standard deviation, which is a measure of variation in the data. The result is that the features will have a mean of 0 and a standard deviation of 1. This doesn't bound values to a specific range as with normalization, and negative values can appear.\n",
    "\n",
    "\n",
    "**Note:** \n",
    "Feature scaling is essential for algorithms that use a distance measure (like k-Nearest Neighbors, or KNN), and it can significantly improve performance for neural networks and algorithms that use gradient descent(like linear regression). \n",
    "\n",
    "However, not all algorithms require feature scaling. For example, decision trees and random forests are not affected by the scale of the data.\n"
   ]
  },
  {
   "cell_type": "code",
   "execution_count": 11,
   "id": "3807a610-5f36-47c2-b517-f2d90693b41e",
   "metadata": {},
   "outputs": [],
   "source": [
    "# We will use standard scaling\n",
    "scaler = StandardScaler()\n",
    "df_scaled = pd.DataFrame(scaler.fit_transform(df), columns=df.columns)"
   ]
  },
  {
   "cell_type": "code",
   "execution_count": 12,
   "id": "17c7a770-3a75-44f4-b3e3-c234d1c1a449",
   "metadata": {},
   "outputs": [
    {
     "data": {
      "text/html": [
       "<div>\n",
       "<style scoped>\n",
       "    .dataframe tbody tr th:only-of-type {\n",
       "        vertical-align: middle;\n",
       "    }\n",
       "\n",
       "    .dataframe tbody tr th {\n",
       "        vertical-align: top;\n",
       "    }\n",
       "\n",
       "    .dataframe thead th {\n",
       "        text-align: right;\n",
       "    }\n",
       "</style>\n",
       "<table border=\"1\" class=\"dataframe\">\n",
       "  <thead>\n",
       "    <tr style=\"text-align: right;\">\n",
       "      <th></th>\n",
       "      <th>MedInc</th>\n",
       "      <th>HouseAge</th>\n",
       "      <th>AveRooms</th>\n",
       "      <th>AveBedrms</th>\n",
       "      <th>Population</th>\n",
       "      <th>AveOccup</th>\n",
       "      <th>Latitude</th>\n",
       "      <th>Longitude</th>\n",
       "      <th>MedianHouseValue</th>\n",
       "    </tr>\n",
       "  </thead>\n",
       "  <tbody>\n",
       "    <tr>\n",
       "      <th>count</th>\n",
       "      <td>2.064000e+04</td>\n",
       "      <td>2.064000e+04</td>\n",
       "      <td>2.064000e+04</td>\n",
       "      <td>2.064000e+04</td>\n",
       "      <td>2.064000e+04</td>\n",
       "      <td>2.064000e+04</td>\n",
       "      <td>2.064000e+04</td>\n",
       "      <td>2.064000e+04</td>\n",
       "      <td>2.064000e+04</td>\n",
       "    </tr>\n",
       "    <tr>\n",
       "      <th>mean</th>\n",
       "      <td>3.734255e-16</td>\n",
       "      <td>8.557001e-16</td>\n",
       "      <td>2.704111e-16</td>\n",
       "      <td>-1.531384e-16</td>\n",
       "      <td>-6.465442e-17</td>\n",
       "      <td>6.064808e-19</td>\n",
       "      <td>1.256263e-15</td>\n",
       "      <td>-6.527810e-15</td>\n",
       "      <td>1.466140e-15</td>\n",
       "    </tr>\n",
       "    <tr>\n",
       "      <th>std</th>\n",
       "      <td>1.000024e+00</td>\n",
       "      <td>1.000024e+00</td>\n",
       "      <td>1.000024e+00</td>\n",
       "      <td>1.000024e+00</td>\n",
       "      <td>1.000024e+00</td>\n",
       "      <td>1.000024e+00</td>\n",
       "      <td>1.000024e+00</td>\n",
       "      <td>1.000024e+00</td>\n",
       "      <td>1.000024e+00</td>\n",
       "    </tr>\n",
       "    <tr>\n",
       "      <th>min</th>\n",
       "      <td>-1.774299e+00</td>\n",
       "      <td>-2.196180e+00</td>\n",
       "      <td>-1.852319e+00</td>\n",
       "      <td>-1.610768e+00</td>\n",
       "      <td>-1.256123e+00</td>\n",
       "      <td>-2.290000e-01</td>\n",
       "      <td>-1.447568e+00</td>\n",
       "      <td>-2.385992e+00</td>\n",
       "      <td>-1.662641e+00</td>\n",
       "    </tr>\n",
       "    <tr>\n",
       "      <th>25%</th>\n",
       "      <td>-6.881186e-01</td>\n",
       "      <td>-8.453931e-01</td>\n",
       "      <td>-3.994496e-01</td>\n",
       "      <td>-1.911716e-01</td>\n",
       "      <td>-5.638089e-01</td>\n",
       "      <td>-6.171062e-02</td>\n",
       "      <td>-7.967887e-01</td>\n",
       "      <td>-1.113209e+00</td>\n",
       "      <td>-7.561633e-01</td>\n",
       "    </tr>\n",
       "    <tr>\n",
       "      <th>50%</th>\n",
       "      <td>-1.767951e-01</td>\n",
       "      <td>2.864572e-02</td>\n",
       "      <td>-8.078489e-02</td>\n",
       "      <td>-1.010650e-01</td>\n",
       "      <td>-2.291318e-01</td>\n",
       "      <td>-2.431585e-02</td>\n",
       "      <td>-6.422871e-01</td>\n",
       "      <td>5.389137e-01</td>\n",
       "      <td>-2.353337e-01</td>\n",
       "    </tr>\n",
       "    <tr>\n",
       "      <th>75%</th>\n",
       "      <td>4.593063e-01</td>\n",
       "      <td>6.643103e-01</td>\n",
       "      <td>2.519615e-01</td>\n",
       "      <td>6.015869e-03</td>\n",
       "      <td>2.644949e-01</td>\n",
       "      <td>2.037453e-02</td>\n",
       "      <td>9.729566e-01</td>\n",
       "      <td>7.784964e-01</td>\n",
       "      <td>5.014973e-01</td>\n",
       "    </tr>\n",
       "    <tr>\n",
       "      <th>max</th>\n",
       "      <td>5.858286e+00</td>\n",
       "      <td>1.856182e+00</td>\n",
       "      <td>5.516324e+01</td>\n",
       "      <td>6.957171e+01</td>\n",
       "      <td>3.025033e+01</td>\n",
       "      <td>1.194191e+02</td>\n",
       "      <td>2.958068e+00</td>\n",
       "      <td>2.625280e+00</td>\n",
       "      <td>2.540411e+00</td>\n",
       "    </tr>\n",
       "  </tbody>\n",
       "</table>\n",
       "</div>"
      ],
      "text/plain": [
       "             MedInc      HouseAge      AveRooms     AveBedrms    Population  \\\n",
       "count  2.064000e+04  2.064000e+04  2.064000e+04  2.064000e+04  2.064000e+04   \n",
       "mean   3.734255e-16  8.557001e-16  2.704111e-16 -1.531384e-16 -6.465442e-17   \n",
       "std    1.000024e+00  1.000024e+00  1.000024e+00  1.000024e+00  1.000024e+00   \n",
       "min   -1.774299e+00 -2.196180e+00 -1.852319e+00 -1.610768e+00 -1.256123e+00   \n",
       "25%   -6.881186e-01 -8.453931e-01 -3.994496e-01 -1.911716e-01 -5.638089e-01   \n",
       "50%   -1.767951e-01  2.864572e-02 -8.078489e-02 -1.010650e-01 -2.291318e-01   \n",
       "75%    4.593063e-01  6.643103e-01  2.519615e-01  6.015869e-03  2.644949e-01   \n",
       "max    5.858286e+00  1.856182e+00  5.516324e+01  6.957171e+01  3.025033e+01   \n",
       "\n",
       "           AveOccup      Latitude     Longitude  MedianHouseValue  \n",
       "count  2.064000e+04  2.064000e+04  2.064000e+04      2.064000e+04  \n",
       "mean   6.064808e-19  1.256263e-15 -6.527810e-15      1.466140e-15  \n",
       "std    1.000024e+00  1.000024e+00  1.000024e+00      1.000024e+00  \n",
       "min   -2.290000e-01 -1.447568e+00 -2.385992e+00     -1.662641e+00  \n",
       "25%   -6.171062e-02 -7.967887e-01 -1.113209e+00     -7.561633e-01  \n",
       "50%   -2.431585e-02 -6.422871e-01  5.389137e-01     -2.353337e-01  \n",
       "75%    2.037453e-02  9.729566e-01  7.784964e-01      5.014973e-01  \n",
       "max    1.194191e+02  2.958068e+00  2.625280e+00      2.540411e+00  "
      ]
     },
     "execution_count": 12,
     "metadata": {},
     "output_type": "execute_result"
    }
   ],
   "source": [
    "df_scaled.describe()"
   ]
  },
  {
   "cell_type": "markdown",
   "id": "bc86618c-0c33-45e8-8799-135c4e445220",
   "metadata": {
    "tags": []
   },
   "source": [
    "# I. Simple Linear Regression"
   ]
  },
  {
   "cell_type": "markdown",
   "id": "4e539c42-435b-4f26-8e44-f52a2cb993df",
   "metadata": {},
   "source": [
    "For this example, we'll simplify the task by using only one feature to predict the median house value, making it a simple linear regression problem. Let's choose the 'Median Income' as our feature as it is usually a good predictor of housing prices."
   ]
  },
  {
   "cell_type": "markdown",
   "id": "cefc030d-cef6-4bf3-aad0-55649974785f",
   "metadata": {},
   "source": [
    "## 1. Choose one feature and split the data"
   ]
  },
  {
   "cell_type": "markdown",
   "id": "e1aaa909-70fa-423f-831c-a13e7a276b2e",
   "metadata": {},
   "source": [
    "- Use 'Median Income' as the feature :\n",
    "\n",
    "We choose the feature 'MedInc' (median income in block group) for our simple linear regression model."
   ]
  },
  {
   "cell_type": "code",
   "execution_count": 50,
   "id": "f5596483-3414-425a-a714-695647238662",
   "metadata": {},
   "outputs": [],
   "source": [
    "# we'll use the scaled data\n",
    "X = df_scaled[['MedInc']]\n",
    "y = df_scaled['MedianHouseValue']"
   ]
  },
  {
   "cell_type": "markdown",
   "id": "b9567d3a-f64f-4bdd-a9fb-0dd00970329a",
   "metadata": {},
   "source": [
    "Here we're creating our feature set **X** (input) which consists only of 'Median Income', and our target **y** which is 'Median House Value'."
   ]
  },
  {
   "cell_type": "code",
   "execution_count": 51,
   "id": "2fb5c048-964e-4cc0-b5da-a23b5e8b85d3",
   "metadata": {},
   "outputs": [],
   "source": [
    "X_train, X_test, y_train, y_test = train_test_split(X, y, test_size=0.2, random_state=0)"
   ]
  },
  {
   "cell_type": "markdown",
   "id": "c7c137d1-397a-4d2d-8852-e879a15cabe0",
   "metadata": {},
   "source": [
    "This splits our data into training and testing sets. We use 80% of our data for training and 20% for testing. The random_state is set for reproducibility of results."
   ]
  },
  {
   "cell_type": "markdown",
   "id": "f3444ac0-4988-4389-b3d9-ec19b324207e",
   "metadata": {},
   "source": [
    "## 2. Train the Linear Regression model"
   ]
  },
  {
   "cell_type": "code",
   "execution_count": 52,
   "id": "3d3c0b92-0612-4749-a90c-b84aaf7c65f2",
   "metadata": {},
   "outputs": [
    {
     "data": {
      "text/plain": [
       "LinearRegression()"
      ]
     },
     "execution_count": 52,
     "metadata": {},
     "output_type": "execute_result"
    }
   ],
   "source": [
    "# Create the linear regression model\n",
    "model = LinearRegression()\n",
    "# Fit the model in training set\n",
    "model.fit(X_train, y_train)"
   ]
  },
  {
   "cell_type": "markdown",
   "id": "e1cd87a7-0de8-4002-9589-243e30de335f",
   "metadata": {},
   "source": [
    "We initialize a LinearRegression model and fit it to our training data. This is where the model learns the relationship between the feature and the target variable."
   ]
  },
  {
   "cell_type": "markdown",
   "id": "db01971a-98d1-403a-957f-314114650876",
   "metadata": {},
   "source": [
    "Mathematically, the model can be expressed as : \n",
    "\n",
    "`MedianHouseValue` = β0 + β1 * `MedInc` + ϵ\n",
    "\n",
    "- β0 is the y-intercept\n",
    "- β1 is the slope of the line (coefficient of X)\n",
    "- ϵ  is the residual error\n",
    "\n",
    "The β0 and β1 are learned from the data by the model."
   ]
  },
  {
   "cell_type": "markdown",
   "id": "a8a79784-1644-49dd-9f05-e8762131d0fd",
   "metadata": {},
   "source": [
    "## 3. Interpreting Model's Coefficients"
   ]
  },
  {
   "cell_type": "code",
   "execution_count": 18,
   "id": "4ad774fa-5805-4757-8cb0-759719de007f",
   "metadata": {},
   "outputs": [
    {
     "name": "stdout",
     "output_type": "stream",
     "text": [
      "Intercept of the model: \n",
      " 0.0013653338787560356\n"
     ]
    }
   ],
   "source": [
    "print('Intercept of the model: \\n', model.intercept_)"
   ]
  },
  {
   "cell_type": "markdown",
   "id": "3ededd12-3028-4364-8d11-08e511b8155b",
   "metadata": {},
   "source": [
    "This the β0 value estimated by our model"
   ]
  },
  {
   "cell_type": "code",
   "execution_count": 19,
   "id": "0ea9db07-17ad-4898-bf3b-3dcd60008302",
   "metadata": {},
   "outputs": [
    {
     "name": "stdout",
     "output_type": "stream",
     "text": [
      "Coefficient: \n",
      " [0.69199894]\n"
     ]
    }
   ],
   "source": [
    "print('Coefficient: \\n', model.coef_)"
   ]
  },
  {
   "cell_type": "markdown",
   "id": "bde22fda-abca-43cf-b735-c7bb7eaeb979",
   "metadata": {},
   "source": [
    "This is the β1 value learned by our model.\n",
    "\n",
    "The coefficient or the slope in the simple linear regression model represents the relationship between the independent variable and the dependent variable.\n",
    "\n",
    "In our case, we have a single coefficient because we are dealing with simple linear regression (i.e., only one feature - `Median Income`).\n",
    "\n",
    "The mathematical expression of our model, therefore, incorporating the β0 (intercept) and β1 (coefficient) values, can be written as:\n",
    "\n",
    "`MedianHouseValue` = 0.00136 + 0.691 * `MedInc` + ϵ\n",
    "\n",
    "The coefficient tells us how much the dependent variable (`MedianHouseValue`) is expected to increase when the independent variable (`MedInc`) increases by one.\n",
    "\n",
    "For example, if our model's coefficient for `Median Income` is 0.7, this means that for each unit increase in median income, we expect the median house value to increase by 0.7 units."
   ]
  },
  {
   "cell_type": "markdown",
   "id": "74bcf8d3-5355-45fa-a759-99597fbfd539",
   "metadata": {},
   "source": [
    "**Note :** It's important to note that this interpretation assumes that the relationship between `Median Income` and `Median House Value` is linear, which may not always be the case in real-world data. Other factors that are not included in our model could also influence the house value."
   ]
  },
  {
   "cell_type": "markdown",
   "id": "6607cb67-fb3b-4ad4-aca0-db06a410bad4",
   "metadata": {},
   "source": [
    "## 4. Make predictions using the testing set"
   ]
  },
  {
   "cell_type": "code",
   "execution_count": 53,
   "id": "2ea67846-258a-42c6-9c72-70d1c9170f87",
   "metadata": {},
   "outputs": [],
   "source": [
    "# Calculate prediction\n",
    "y_pred = model.predict(X_test)"
   ]
  },
  {
   "cell_type": "markdown",
   "id": "fc82e4be-1bfe-4c04-b600-a96411f24eea",
   "metadata": {},
   "source": [
    "Here we're using our trained model to make predictions on our testing data."
   ]
  },
  {
   "cell_type": "code",
   "execution_count": 29,
   "id": "40227dd2-9991-464f-8596-90f24f21cc11",
   "metadata": {},
   "outputs": [
    {
     "data": {
      "text/plain": [
       "array([ 0.10376741,  0.69669839,  0.17548882, ..., -0.24194509,\n",
       "        0.82928647, -0.19462863])"
      ]
     },
     "execution_count": 29,
     "metadata": {},
     "output_type": "execute_result"
    }
   ],
   "source": [
    "y_pred"
   ]
  },
  {
   "cell_type": "markdown",
   "id": "62f3466b-cec1-4097-9680-d1af32b75104",
   "metadata": {
    "tags": []
   },
   "source": [
    "#### Example of Predicting a New Value"
   ]
  },
  {
   "cell_type": "markdown",
   "id": "22df494e-bb59-4aa8-a45e-1f24e61ed34c",
   "metadata": {},
   "source": [
    "Our model has learned from the data and determined the coefficient for Median Income to be 0.691, and the intercept to be 0.00136.\n",
    "\n",
    "Now, suppose we encounter a new neighborhood (new block) where the `median income` is **2.37** (note that the median income is scaled and capped, with the actual income value being in tens of thousands of dollars).\n",
    "\n",
    "Our linear regression model can predict the median house value for this neighborhood using the following equation:\n",
    "\n",
    "`predicted_median_house_value` = 0.00136 + 0.691 * 2.37\n",
    "\n",
    "Let's carry out this calculation using Python:"
   ]
  },
  {
   "cell_type": "code",
   "execution_count": 33,
   "id": "82dee3a3-0af6-4350-877f-cbec72bd4654",
   "metadata": {},
   "outputs": [
    {
     "name": "stdout",
     "output_type": "stream",
     "text": [
      "The predicted median house value is : 1.63903\n"
     ]
    }
   ],
   "source": [
    "# Define the intercept and the coefficient \n",
    "intercept = 0.00136\n",
    "coefficient = 0.691\n",
    "\n",
    "# The new block's median income\n",
    "median_income_new = 2.37\n",
    "\n",
    "# Make a prediction for the median house value\n",
    "predicted_median_house_value = intercept + (coefficient * median_income_new) \n",
    "\n",
    "print(\"The predicted median house value is :\", predicted_median_house_value)"
   ]
  },
  {
   "cell_type": "markdown",
   "id": "1f193076-f46f-4c0b-9583-d5ad2e201a88",
   "metadata": {},
   "source": [
    "- **Checking the predicted value by our model using an example from the test set**"
   ]
  },
  {
   "cell_type": "markdown",
   "id": "93612a99-1084-426d-8f7c-d7e28a37d54f",
   "metadata": {},
   "source": [
    "Let's choose a real value of `median income` in our X_test "
   ]
  },
  {
   "cell_type": "code",
   "execution_count": 55,
   "id": "2a0d04db-61f2-4721-ad24-26c584ecf043",
   "metadata": {},
   "outputs": [
    {
     "data": {
      "text/html": [
       "<div>\n",
       "<style scoped>\n",
       "    .dataframe tbody tr th:only-of-type {\n",
       "        vertical-align: middle;\n",
       "    }\n",
       "\n",
       "    .dataframe tbody tr th {\n",
       "        vertical-align: top;\n",
       "    }\n",
       "\n",
       "    .dataframe thead th {\n",
       "        text-align: right;\n",
       "    }\n",
       "</style>\n",
       "<table border=\"1\" class=\"dataframe\">\n",
       "  <thead>\n",
       "    <tr style=\"text-align: right;\">\n",
       "      <th></th>\n",
       "      <th>MedInc</th>\n",
       "    </tr>\n",
       "  </thead>\n",
       "  <tbody>\n",
       "    <tr>\n",
       "      <th>14740</th>\n",
       "      <td>0.147980</td>\n",
       "    </tr>\n",
       "    <tr>\n",
       "      <th>10101</th>\n",
       "      <td>1.004818</td>\n",
       "    </tr>\n",
       "    <tr>\n",
       "      <th>20566</th>\n",
       "      <td>0.251624</td>\n",
       "    </tr>\n",
       "    <tr>\n",
       "      <th>2670</th>\n",
       "      <td>-0.747231</td>\n",
       "    </tr>\n",
       "    <tr>\n",
       "      <th>15709</th>\n",
       "      <td>0.597033</td>\n",
       "    </tr>\n",
       "  </tbody>\n",
       "</table>\n",
       "</div>"
      ],
      "text/plain": [
       "         MedInc\n",
       "14740  0.147980\n",
       "10101  1.004818\n",
       "20566  0.251624\n",
       "2670  -0.747231\n",
       "15709  0.597033"
      ]
     },
     "execution_count": 55,
     "metadata": {},
     "output_type": "execute_result"
    }
   ],
   "source": [
    "X_test.head()"
   ]
  },
  {
   "cell_type": "markdown",
   "id": "5671177c-ca85-44d4-ba62-496b95f317b7",
   "metadata": {},
   "source": [
    "For example, choose the first value"
   ]
  },
  {
   "cell_type": "code",
   "execution_count": 56,
   "id": "dd0a7577-3634-4eee-a979-296d9579b143",
   "metadata": {},
   "outputs": [
    {
     "data": {
      "text/plain": [
       "MedInc    0.14798\n",
       "Name: 14740, dtype: float64"
      ]
     },
     "execution_count": 56,
     "metadata": {},
     "output_type": "execute_result"
    }
   ],
   "source": [
    "X_test.loc[14740]"
   ]
  },
  {
   "cell_type": "code",
   "execution_count": 60,
   "id": "733d029f-c333-4d0e-9423-60afe2cd3f2d",
   "metadata": {},
   "outputs": [
    {
     "name": "stdout",
     "output_type": "stream",
     "text": [
      "The predicted median house value is : 0.10361417999999999\n"
     ]
    }
   ],
   "source": [
    "# Define the intercept and the coefficient \n",
    "intercept = 0.00136\n",
    "coefficient = 0.691\n",
    "\n",
    "# The new block's median income : The first value of our X_test\n",
    "median_income_new = 0.14798\n",
    "\n",
    "# Make a prediction for the median house value\n",
    "predicted_median_house_value = intercept + (coefficient * median_income_new)\n",
    "\n",
    "print(\"The predicted median house value is :\", predicted_median_house_value)"
   ]
  },
  {
   "cell_type": "markdown",
   "id": "8a485503-50ef-4ffd-99e9-5049f7b3c46e",
   "metadata": {},
   "source": [
    "The predicted value is 0.1036 and it is the same value calculated by our model (there is a small difference in the decimal part because we did not take all the decimals of the intercept and the coefficient)."
   ]
  },
  {
   "cell_type": "code",
   "execution_count": 61,
   "id": "cfb6fb18-f008-4021-b181-cac02db9e01b",
   "metadata": {},
   "outputs": [
    {
     "data": {
      "text/plain": [
       "0.1037674063886034"
      ]
     },
     "execution_count": 61,
     "metadata": {},
     "output_type": "execute_result"
    }
   ],
   "source": [
    "# Predicted value by the model\n",
    "y_pred[0]"
   ]
  },
  {
   "cell_type": "markdown",
   "id": "422e18a0-9f06-4a22-aef5-80cc5b436515",
   "metadata": {},
   "source": [
    "**Note:**\n",
    "\n",
    "In the context of making predictions using a trained machine learning model, we don't explicitly consider the error term because it represents the residuals or the difference between the observed and predicted values from the training data, which is not known or applicable for new, unseen data.\n",
    "\n",
    "Remember, the error term is used in the training phase to update the model parameters and minimize the difference between the predicted and actual values. This process is done iteratively using an optimization algorithm such as gradient descent.\n",
    "\n",
    "However, when we make predictions on new data, we only use the learned coefficients (and the intercept) to make a prediction. We do not have the true value for this new data (that's why we're making a prediction), so there is no error term to add or subtract.\n",
    "\n",
    "Keep in mind that a well-trained model should have learned coefficients that minimize the error term on average, which is why we don't need to consider it when making new predictions."
   ]
  },
  {
   "cell_type": "markdown",
   "id": "4312baff-6253-48b5-904f-c89f11f22249",
   "metadata": {},
   "source": [
    "## 5. Evaluate the model"
   ]
  },
  {
   "cell_type": "code",
   "execution_count": 34,
   "id": "68759ebc-fb43-498a-96be-676c6831ddbf",
   "metadata": {},
   "outputs": [
    {
     "name": "stdout",
     "output_type": "stream",
     "text": [
      "MSE: 0.54, R²: 0.45\n"
     ]
    }
   ],
   "source": [
    "mse = mean_squared_error(y_test, y_pred)\n",
    "r2 = r2_score(y_test, y_pred)\n",
    "print(f'MSE: {mse:.2f}, R²: {r2:.2f}')"
   ]
  },
  {
   "cell_type": "markdown",
   "id": "c5cf08de-e39b-46c0-b5a7-43f8a15c4146",
   "metadata": {},
   "source": [
    "- **MSE**\n",
    "\n",
    "The MSE (Mean Squared Error) gives us a measure of how close our predictions are to the actual values. \n",
    "\n",
    "**The smaller the MSE, the better our model.**"
   ]
  },
  {
   "cell_type": "markdown",
   "id": "bd186ba8-ca74-473a-a477-535863739230",
   "metadata": {},
   "source": [
    "- **R²**\n",
    "\n",
    "The **R²** score gives us a measure of how well our model performs compared to a model that always predicts the average house value. \n",
    "\n",
    "An R² score of 1 indicates that our model explains all the variability of the target variable around its mean. \n",
    "\n",
    "**The closer the R² score is to 1, the better our model.**"
   ]
  },
  {
   "cell_type": "markdown",
   "id": "901e25d2-8c6f-4e53-90dd-97a0e236a07b",
   "metadata": {},
   "source": [
    "## 6. Visualize the model"
   ]
  },
  {
   "cell_type": "code",
   "execution_count": 39,
   "id": "97486794-ee84-4032-ac70-1b47ecbc2a49",
   "metadata": {},
   "outputs": [
    {
     "data": {
      "text/plain": [
       "pandas.core.frame.DataFrame"
      ]
     },
     "execution_count": 39,
     "metadata": {},
     "output_type": "execute_result"
    }
   ],
   "source": [
    "type(X_test)"
   ]
  },
  {
   "cell_type": "code",
   "execution_count": 40,
   "id": "a27dab02-240e-4fbd-850d-475ff2d7b809",
   "metadata": {},
   "outputs": [
    {
     "data": {
      "text/plain": [
       "numpy.ndarray"
      ]
     },
     "execution_count": 40,
     "metadata": {},
     "output_type": "execute_result"
    }
   ],
   "source": [
    "type(y_pred)"
   ]
  },
  {
   "cell_type": "code",
   "execution_count": 62,
   "id": "2aa7bf54-70aa-4b91-a161-fc2e839d908a",
   "metadata": {},
   "outputs": [
    {
     "data": {
      "image/png": "[encoded data removed]",
      "text/plain": [
       "<Figure size 432x288 with 1 Axes>"
      ]
     },
     "metadata": {
      "needs_background": "light"
     },
     "output_type": "display_data"
    }
   ],
   "source": [
    "plt.scatter(X_test, y_test, color='blue')\n",
    "plt.plot(X_test.squeeze(), y_pred, color='red', linewidth=2)\n",
    "plt.show()"
   ]
  },
  {
   "cell_type": "markdown",
   "id": "55fb7fd7-9440-49e8-9e3d-6afa3d17aedc",
   "metadata": {},
   "source": [
    "Finally, we plot the test data points as a scatter plot, and the predicted regression line. This visualization helps us understand the fit of our model on the test data.\n",
    "\n",
    "The plot provides a visual representation of this fit."
   ]
  },
  {
   "cell_type": "markdown",
   "id": "f3a6f728-8848-48b9-82eb-827270358979",
   "metadata": {},
   "source": [
    "**Note:** \n",
    "\n",
    "This is a very basic example. In a real-world scenario, you would likely need to do more extensive data cleaning, feature engineering, and model tuning to achieve good results."
   ]
  },
  {
   "cell_type": "markdown",
   "id": "797695ba-235a-420f-b968-b6ceca8d8a55",
   "metadata": {
    "tags": []
   },
   "source": [
    "# II. Multiple linear Regression"
   ]
  },
  {
   "cell_type": "markdown",
   "id": "5e6b1685-d364-42fc-bbe4-4d4c180735c4",
   "metadata": {},
   "source": [
    "In a multiple linear regression, we use more than one feature to predict the target variable. \n",
    "\n",
    "In this part, instead of just using 'Median Income' as our feature, we use all the features in the dataset (median income, housing average age, average rooms, average bedrooms, population, average occupation, latitude, and longitude) to predict the median house value.\n",
    "\n",
    "The remainder of the code remains the same - we still split our data into training and testing sets, train a linear regression model, make predictions, and evaluate our model."
   ]
  },
  {
   "cell_type": "markdown",
   "id": "a5468fde-7cc9-41b0-9b5e-7eadf8b67b26",
   "metadata": {},
   "source": [
    "## 1. Choose multiple features and split the data"
   ]
  },
  {
   "cell_type": "markdown",
   "id": "42c778a3-25db-4a1c-93b5-f5df015d9e1f",
   "metadata": {},
   "source": [
    "We're using all available features to predict the median house value. We do this by dropping the `MedianHouseValue` column from our dataframe to create our feature set **X**."
   ]
  },
  {
   "cell_type": "code",
   "execution_count": 68,
   "id": "e0bae500-b33c-47c1-ae96-5a9362ae58da",
   "metadata": {},
   "outputs": [],
   "source": [
    "# Use all features\n",
    "X = df_scaled.drop('MedianHouseValue', axis=1)\n",
    "y = df_scaled['MedianHouseValue']\n",
    "\n",
    "# Split the data into training and testing sets\n",
    "X_train, X_test, y_train, y_test = train_test_split(X, y, test_size=0.2, random_state=0)"
   ]
  },
  {
   "cell_type": "markdown",
   "id": "9777d08b-49b1-4603-9258-732faaad5116",
   "metadata": {},
   "source": [
    "## 2. Train the Linear Regression model"
   ]
  },
  {
   "cell_type": "code",
   "execution_count": 69,
   "id": "d338da18-53d5-412a-b57d-fff20959f3b2",
   "metadata": {},
   "outputs": [
    {
     "data": {
      "text/plain": [
       "LinearRegression()"
      ]
     },
     "execution_count": 69,
     "metadata": {},
     "output_type": "execute_result"
    }
   ],
   "source": [
    "model = LinearRegression()\n",
    "model.fit(X_train, y_train)"
   ]
  },
  {
   "cell_type": "code",
   "execution_count": 74,
   "id": "39fdbb52-38c9-4b89-8cda-e28fe1ffd040",
   "metadata": {},
   "outputs": [
    {
     "data": {
      "text/plain": [
       "Index(['MedInc', 'HouseAge', 'AveRooms', 'AveBedrms', 'Population', 'AveOccup',\n",
       "       'Latitude', 'Longitude', 'MedianHouseValue'],\n",
       "      dtype='object')"
      ]
     },
     "execution_count": 74,
     "metadata": {},
     "output_type": "execute_result"
    }
   ],
   "source": [
    "df.columns"
   ]
  },
  {
   "cell_type": "markdown",
   "id": "581cb914-1c35-433d-b01f-40a0114cba1d",
   "metadata": {},
   "source": [
    "We create a Linear Regression model and train it on our training data. This is the same step as in simple linear regression."
   ]
  },
  {
   "cell_type": "markdown",
   "id": "854ae606-139d-4b93-bdfc-7bef8be4a198",
   "metadata": {},
   "source": [
    "Mathematically, the model can be expressed as : \n",
    "\n",
    "`MedianHouseValue` = β0 + β1 * `MedInc` + β2 * `HouseAge`+ β3 * `AveRooms` + β4 * `AveBedrms` + β5 * `Population` + β6 * `AveOccup` + β7 * `Latitude` + β8 * `Longitude`+ ϵ\n",
    "\n",
    "where:\n",
    " \n",
    "- Y is the dependent variable.\n",
    "- X1, X2, ..., Xn are the independent variables.\n",
    "- β0 is the y-intercept.\n",
    "- β1, β2, ..., β8 are the coefficients of X1, X2, ..., X8, respectively.\n",
    "- ϵ is the residual error\n",
    "\n",
    "The β parameters (β1, β2, ..., β8) are learned from the data by the model."
   ]
  },
  {
   "cell_type": "markdown",
   "id": "3042fefc-fb8a-4d18-a604-cc067a793df1",
   "metadata": {},
   "source": [
    "## 3. Make predictions using the testing set"
   ]
  },
  {
   "cell_type": "markdown",
   "id": "fe4d5c2e-a94d-4bb8-89b1-85c89002179e",
   "metadata": {},
   "source": [
    "We use the trained model to make predictions on our testing data. These predictions are then used to evaluate the model."
   ]
  },
  {
   "cell_type": "code",
   "execution_count": 70,
   "id": "d7c52d68-c4dc-4337-890f-b21566f5b942",
   "metadata": {},
   "outputs": [],
   "source": [
    "# Calculate prediction\n",
    "y_pred = model.predict(X_test)"
   ]
  },
  {
   "cell_type": "markdown",
   "id": "72938ffa-282f-47ed-8953-bbf8e1e3da47",
   "metadata": {},
   "source": [
    "## 4. Show the model coefficients"
   ]
  },
  {
   "cell_type": "markdown",
   "id": "99db7313-b82e-4397-85af-5f1581a78068",
   "metadata": {},
   "source": [
    "In multiple linear regression, it can be useful to look at the coefficients of the model to understand the impact of each feature on the prediction. This code creates a new dataframe with the feature names and corresponding coefficients."
   ]
  },
  {
   "cell_type": "code",
   "execution_count": 71,
   "id": "9701aa8c-0b49-461c-ba94-bcd5d84a4b1e",
   "metadata": {},
   "outputs": [
    {
     "name": "stdout",
     "output_type": "stream",
     "text": [
      "            Coefficient\n",
      "MedInc         0.713421\n",
      "HouseAge       0.101356\n",
      "AveRooms      -0.211499\n",
      "AveBedrms      0.243624\n",
      "Population    -0.007421\n",
      "AveOccup      -0.042708\n",
      "Latitude      -0.780095\n",
      "Longitude     -0.753812\n"
     ]
    }
   ],
   "source": [
    "coeff_df = pd.DataFrame(model.coef_, california_dataset.feature_names, columns=['Coefficient'])\n",
    "print(coeff_df)"
   ]
  },
  {
   "cell_type": "markdown",
   "id": "444293f4-0b77-4ed4-87e6-dc244e606949",
   "metadata": {},
   "source": [
    "Each coefficient corresponds to one of our features. It represents the expected change in the median house value for each unit increase in that feature, holding all other features are held constant."
   ]
  },
  {
   "cell_type": "code",
   "execution_count": 75,
   "id": "b0bb7256-adb3-4f89-9d87-69e926c2c6b8",
   "metadata": {},
   "outputs": [
    {
     "name": "stdout",
     "output_type": "stream",
     "text": [
      "Intercept of the model: \n",
      " 0.0018009175786551208\n"
     ]
    }
   ],
   "source": [
    "print('Intercept of the model: \\n', model.intercept_)"
   ]
  },
  {
   "cell_type": "markdown",
   "id": "7d6caea9-74ed-44f6-b9e1-adcdd853bb34",
   "metadata": {},
   "source": [
    "The mathematical expression of our model, therefore, incorporating the β values, can be written as:\n",
    "\n",
    "`MedianHouseValue` = 0.0018 + 0.713421 * `MedInc` + 0.101356 * `HouseAge` - 0.211499 * `AveRooms` + 0.243624 * `AveBedrms` - 0.007421 * `Population` - 0.042708 * `AveOccup` - 0.780095 * `Latitude` - 0.753812 * `Longitude`+ ϵ"
   ]
  },
  {
   "cell_type": "markdown",
   "id": "e9ea4a63-3452-4aa9-8938-52bb089da535",
   "metadata": {},
   "source": [
    "- **Coefficient interpretation**"
   ]
  },
  {
   "cell_type": "markdown",
   "id": "0f078f79-0880-4b00-91b6-3fef1cd18b17",
   "metadata": {},
   "source": [
    "Let's break down these coefficients one by one:\n",
    "\n",
    "- `0.713421`: This is the coefficient for `MedInc` (Median income in block). It means that for each unit increase in `MedInc`, we expect the median house value to increase by 0.713 units, assuming all other variables are held constant.\n",
    "\n",
    "- `0.101356`: This is the coefficient for `HouseAge` (Average age of houses in block). For each unit increase in `HouseAge`, we expect the median house value to increase by 0.101 units, all else being equal.\n",
    "\n",
    "- `-0.211499`: This is the coefficient for `AveRooms` (Average number of rooms). A negative coefficient means that as this feature increases, the median house value decreases. So for each unit increase in `AveRooms`, we expect the median house value to decrease by 0.211 units, all else being equal.\n",
    "\n",
    "- `0.243624`: This is the coefficient for `AveBedrms` (Average number of bedrooms). For each unit increase in `AveBedrms`, we expect the median house value to increase by 0.243 units, all else being equal.\n",
    "\n",
    "- `-0.007421`: This is the coefficient for `Population`. For each unit increase in `Population`, we expect the median house value to decrease slightly (as indicated by the very small negative value 0.007), all else being equal.\n",
    "\n",
    "- `-0.042708`: This is the coefficient for `AveOccup` (Average house occupancy). For each unit increase in `AveOccup`, we expect the median house value to decrease by 0.042 units, all else being equal.\n",
    "\n",
    "- `-0.780095`: This is the coefficient for `Latitude`. For each unit increase in `Latitude`, we expect the median house value to decrease by 0.780 units, all else being equal.\n",
    "\n",
    "- `-0.753812`: This is the coefficient for `Longitude`. For each unit increase in `Longitude`, we expect the median house value to decrease by 0.753 units, all else being equal.\n",
    "\n",
    "Remember, these interpretations assume a linear relationship between each feature and the median house value, holding all other variables constant. In reality, this may not always be the case, but linear regression provides a simplified model of reality that can still be quite useful for prediction."
   ]
  },
  {
   "cell_type": "markdown",
   "id": "795a3b7e-d53f-4725-9b8c-20fe732afcc3",
   "metadata": {},
   "source": [
    "## 5. Evaluate the model"
   ]
  },
  {
   "cell_type": "code",
   "execution_count": 72,
   "id": "37bb4735-9fdd-4872-aae3-cb3018f9d101",
   "metadata": {},
   "outputs": [
    {
     "name": "stdout",
     "output_type": "stream",
     "text": [
      "MSE: 0.40, R²: 0.59\n"
     ]
    }
   ],
   "source": [
    "mse = mean_squared_error(y_test, y_pred)\n",
    "r2 = r2_score(y_test, y_pred)\n",
    "print(f'MSE: {mse:.2f}, R²: {r2:.2f}')"
   ]
  },
  {
   "cell_type": "markdown",
   "id": "c5196e7d-8ad4-487b-a5e6-7bd06d27201a",
   "metadata": {},
   "source": [
    "Again, we use our trained model to make predictions on the test set, and evaluate its performance by calculating the Mean Squared Error and R² score."
   ]
  },
  {
   "cell_type": "markdown",
   "id": "d4774012-9240-4d24-8ca3-5dc628f7dfd6",
   "metadata": {},
   "source": [
    "## 6. Checking the Overfitting/Underfitting"
   ]
  },
  {
   "cell_type": "markdown",
   "id": "506d3af8-7f0b-449a-a43c-9f22d933eb33",
   "metadata": {},
   "source": [
    "- Checking the performance of our model on the training data\n",
    "\n",
    "We first need to calculate the prediction from the X_train data and then evaluate the performance by MSE and R2. "
   ]
  },
  {
   "cell_type": "code",
   "execution_count": 73,
   "id": "0883e2f3-555d-446b-8126-b60c1068eefc",
   "metadata": {},
   "outputs": [
    {
     "name": "stdout",
     "output_type": "stream",
     "text": [
      "MSE_tr: 0.39, R²_tr: 0.61\n"
     ]
    }
   ],
   "source": [
    "# Calculate prediction of training set \n",
    "y_pred_tr = model.predict(X_train)\n",
    "# Evaluate model performance on training data\n",
    "mse_tr = mean_squared_error(y_train, y_pred_tr)\n",
    "r2_tr = r2_score(y_train, y_pred_tr)\n",
    "print(f'MSE_tr: {mse_tr:.2f}, R²_tr: {r2_tr:.2f}')"
   ]
  },
  {
   "cell_type": "markdown",
   "id": "9e20d729-b6bd-48a0-8367-6cdfc9dff275",
   "metadata": {},
   "source": [
    "- Interpretation"
   ]
  },
  {
   "cell_type": "markdown",
   "id": "5fdf1b69-eafd-489b-8b95-6e125c7d5ee0",
   "metadata": {},
   "source": [
    "Observing that the performance metrics for both the training and test datasets are quite similar indicates a well-fitted model. In this scenario, there doesn't seem to be a concern for overfitting or underfitting issues."
   ]
  },
  {
   "cell_type": "markdown",
   "id": "7aee7171-6974-4dce-926b-61d2717145d8",
   "metadata": {},
   "source": [
    "- **Notes :**"
   ]
  },
  {
   "cell_type": "markdown",
   "id": "46851b36-ef08-44e5-9247-5d58d85ffe00",
   "metadata": {},
   "source": [
    "In multiple regression, we cannot visualize the regression line as we did in simple linear regression, because we are now in a higher-dimensional space. However, we could visualize the relationship between the target and each individual feature.\n",
    "\n",
    "Remember that multiple linear regression assumes that there is a **linear relationship between the features and the target variable**, and that the **features are not highly correlated with each other**. If these assumptions are violated, the model's predictions may be inaccurate. **Always make sure to check these assumptions when using multiple linear regression**."
   ]
  }
 ],
 "metadata": {
  "kernelspec": {
   "display_name": "Python 3 (ipykernel)",
   "language": "python",
   "name": "python3"
  },
  "language_info": {
   "codemirror_mode": {
    "name": "ipython",
    "version": 3
   },
   "file_extension": ".py",
   "mimetype": "text/x-python",
   "name": "python",
   "nbconvert_exporter": "python",
   "pygments_lexer": "ipython3",
   "version": "3.9.12"
  }
 },
 "nbformat": 4,
 "nbformat_minor": 5
}
