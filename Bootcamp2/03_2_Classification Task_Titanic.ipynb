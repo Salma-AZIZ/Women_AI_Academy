{
 "cells": [
  {
   "cell_type": "markdown",
   "id": "92e85542-e979-4480-a277-a48fdfd46a4d",
   "metadata": {},
   "source": [
    "# Supervised Learning : Classification Task"
   ]
  },
  {
   "cell_type": "markdown",
   "id": "0a150a00-2035-4dd1-b94e-6255ef65fcaf",
   "metadata": {},
   "source": [
    "## Context"
   ]
  },
  {
   "cell_type": "markdown",
   "id": "5a29b068-b157-4bf5-8256-eef571bd23fe",
   "metadata": {},
   "source": [
    "You are a data scientist working for a historical research institution. As part of a project on early 20th century maritime disasters, you have been tasked with studying the tragic sinking of the Titanic. Specifically, the organization is interested in understanding the factors that contributed to a passenger's likelihood of survival.\n",
    "\n",
    "The institution has collected a dataset containing information about the Titanic passengers, including their age, sex, passenger class (1st, 2nd, or 3rd class), and whether or not they survived the disaster. They want you to create a machine learning model to predict a passenger's likelihood of survival based on these features.\n",
    "\n",
    "In addition to building the model, the institution also wants to understand the decision-making process of the model. This will not only shed light on what factors were most important in determining a passenger's survival, but will also provide insights that can guide future historical research.\n",
    "\n",
    "\n",
    "This context can set the stage for the data loading, preprocessing, model training, and model evaluation steps provided in the activity. The visualization of the decision tree can be presented as a way for the researchers to understand what factors the model deems important in predicting a passenger's survival."
   ]
  },
  {
   "cell_type": "code",
   "execution_count": 2,
   "id": "4d17de99-8887-40e4-9458-523dd2e38093",
   "metadata": {},
   "outputs": [],
   "source": [
    "import pandas as pd\n",
    "import numpy as np\n",
    "\n",
    "import seaborn as sns # To load the titanic data set too\n",
    "import matplotlib.pyplot as plt\n",
    "\n",
    "from sklearn.preprocessing import OneHotEncoder # to encode the categorical variable\n",
    "from sklearn.model_selection import train_test_split \n",
    "\n",
    "from sklearn.tree import DecisionTreeClassifier\n",
    "from sklearn.tree import plot_tree # to visualize the Tree\n",
    "from sklearn.ensemble import RandomForestClassifier\n",
    "\n",
    "from sklearn.metrics import accuracy_score, confusion_matrix, classification_report\n",
    "from sklearn.metrics import roc_curve, roc_auc_score"
   ]
  },
  {
   "cell_type": "markdown",
   "id": "0fd3302e-64cb-432c-b500-a4ac66e0824c",
   "metadata": {
    "tags": []
   },
   "source": [
    "## 1. Data Loading"
   ]
  },
  {
   "cell_type": "markdown",
   "id": "26879d07-b577-45a7-a7fe-c3da9e5eb154",
   "metadata": {},
   "source": [
    "We will start by loading the data. The Titanic dataset is available in many repositories and platforms, including directly via seaborn library."
   ]
  },
  {
   "cell_type": "code",
   "execution_count": 3,
   "id": "1f77a904-0ec5-4049-b1c8-b9887b35043d",
   "metadata": {},
   "outputs": [
    {
     "data": {
      "text/html": [
       "<div>\n",
       "<style scoped>\n",
       "    .dataframe tbody tr th:only-of-type {\n",
       "        vertical-align: middle;\n",
       "    }\n",
       "\n",
       "    .dataframe tbody tr th {\n",
       "        vertical-align: top;\n",
       "    }\n",
       "\n",
       "    .dataframe thead th {\n",
       "        text-align: right;\n",
       "    }\n",
       "</style>\n",
       "<table border=\"1\" class=\"dataframe\">\n",
       "  <thead>\n",
       "    <tr style=\"text-align: right;\">\n",
       "      <th></th>\n",
       "      <th>survived</th>\n",
       "      <th>pclass</th>\n",
       "      <th>sex</th>\n",
       "      <th>age</th>\n",
       "      <th>sibsp</th>\n",
       "      <th>parch</th>\n",
       "      <th>fare</th>\n",
       "      <th>embarked</th>\n",
       "      <th>class</th>\n",
       "      <th>who</th>\n",
       "      <th>adult_male</th>\n",
       "      <th>deck</th>\n",
       "      <th>embark_town</th>\n",
       "      <th>alive</th>\n",
       "      <th>alone</th>\n",
       "    </tr>\n",
       "  </thead>\n",
       "  <tbody>\n",
       "    <tr>\n",
       "      <th>0</th>\n",
       "      <td>0</td>\n",
       "      <td>3</td>\n",
       "      <td>male</td>\n",
       "      <td>22.0</td>\n",
       "      <td>1</td>\n",
       "      <td>0</td>\n",
       "      <td>7.2500</td>\n",
       "      <td>S</td>\n",
       "      <td>Third</td>\n",
       "      <td>man</td>\n",
       "      <td>True</td>\n",
       "      <td>NaN</td>\n",
       "      <td>Southampton</td>\n",
       "      <td>no</td>\n",
       "      <td>False</td>\n",
       "    </tr>\n",
       "    <tr>\n",
       "      <th>1</th>\n",
       "      <td>1</td>\n",
       "      <td>1</td>\n",
       "      <td>female</td>\n",
       "      <td>38.0</td>\n",
       "      <td>1</td>\n",
       "      <td>0</td>\n",
       "      <td>71.2833</td>\n",
       "      <td>C</td>\n",
       "      <td>First</td>\n",
       "      <td>woman</td>\n",
       "      <td>False</td>\n",
       "      <td>C</td>\n",
       "      <td>Cherbourg</td>\n",
       "      <td>yes</td>\n",
       "      <td>False</td>\n",
       "    </tr>\n",
       "    <tr>\n",
       "      <th>2</th>\n",
       "      <td>1</td>\n",
       "      <td>3</td>\n",
       "      <td>female</td>\n",
       "      <td>26.0</td>\n",
       "      <td>0</td>\n",
       "      <td>0</td>\n",
       "      <td>7.9250</td>\n",
       "      <td>S</td>\n",
       "      <td>Third</td>\n",
       "      <td>woman</td>\n",
       "      <td>False</td>\n",
       "      <td>NaN</td>\n",
       "      <td>Southampton</td>\n",
       "      <td>yes</td>\n",
       "      <td>True</td>\n",
       "    </tr>\n",
       "    <tr>\n",
       "      <th>3</th>\n",
       "      <td>1</td>\n",
       "      <td>1</td>\n",
       "      <td>female</td>\n",
       "      <td>35.0</td>\n",
       "      <td>1</td>\n",
       "      <td>0</td>\n",
       "      <td>53.1000</td>\n",
       "      <td>S</td>\n",
       "      <td>First</td>\n",
       "      <td>woman</td>\n",
       "      <td>False</td>\n",
       "      <td>C</td>\n",
       "      <td>Southampton</td>\n",
       "      <td>yes</td>\n",
       "      <td>False</td>\n",
       "    </tr>\n",
       "    <tr>\n",
       "      <th>4</th>\n",
       "      <td>0</td>\n",
       "      <td>3</td>\n",
       "      <td>male</td>\n",
       "      <td>35.0</td>\n",
       "      <td>0</td>\n",
       "      <td>0</td>\n",
       "      <td>8.0500</td>\n",
       "      <td>S</td>\n",
       "      <td>Third</td>\n",
       "      <td>man</td>\n",
       "      <td>True</td>\n",
       "      <td>NaN</td>\n",
       "      <td>Southampton</td>\n",
       "      <td>no</td>\n",
       "      <td>True</td>\n",
       "    </tr>\n",
       "  </tbody>\n",
       "</table>\n",
       "</div>"
      ],
      "text/plain": [
       "   survived  pclass     sex   age  sibsp  parch     fare embarked  class  \\\n",
       "0         0       3    male  22.0      1      0   7.2500        S  Third   \n",
       "1         1       1  female  38.0      1      0  71.2833        C  First   \n",
       "2         1       3  female  26.0      0      0   7.9250        S  Third   \n",
       "3         1       1  female  35.0      1      0  53.1000        S  First   \n",
       "4         0       3    male  35.0      0      0   8.0500        S  Third   \n",
       "\n",
       "     who  adult_male deck  embark_town alive  alone  \n",
       "0    man        True  NaN  Southampton    no  False  \n",
       "1  woman       False    C    Cherbourg   yes  False  \n",
       "2  woman       False  NaN  Southampton   yes   True  \n",
       "3  woman       False    C  Southampton   yes  False  \n",
       "4    man        True  NaN  Southampton    no   True  "
      ]
     },
     "execution_count": 3,
     "metadata": {},
     "output_type": "execute_result"
    }
   ],
   "source": [
    "titanic = sns.load_dataset('titanic')\n",
    "titanic.head()"
   ]
  },
  {
   "cell_type": "markdown",
   "id": "05f3d296-d78c-4c7e-8a46-571b40922d27",
   "metadata": {
    "tags": []
   },
   "source": [
    "## 2. Exploratory Data Analysis"
   ]
  },
  {
   "cell_type": "markdown",
   "id": "88e13d28-3df4-4354-b9e6-63f766dc488b",
   "metadata": {},
   "source": [
    "Perform some EDA"
   ]
  },
  {
   "cell_type": "markdown",
   "id": "26a8905a-e4c4-4f1e-80e4-ace9aa7af33b",
   "metadata": {},
   "source": [
    "Let's start fist by understanding our data"
   ]
  },
  {
   "cell_type": "markdown",
   "id": "0d14554e-4bf7-4739-87b2-a88e4cff531f",
   "metadata": {
    "tags": []
   },
   "source": [
    "### Variable description"
   ]
  },
  {
   "cell_type": "code",
   "execution_count": 4,
   "id": "8075f066-96b8-4db1-a650-e4f23ce72d4d",
   "metadata": {},
   "outputs": [
    {
     "name": "stdout",
     "output_type": "stream",
     "text": [
      "<class 'pandas.core.frame.DataFrame'>\n",
      "RangeIndex: 891 entries, 0 to 890\n",
      "Data columns (total 15 columns):\n",
      " #   Column       Non-Null Count  Dtype   \n",
      "---  ------       --------------  -----   \n",
      " 0   survived     891 non-null    int64   \n",
      " 1   pclass       891 non-null    int64   \n",
      " 2   sex          891 non-null    object  \n",
      " 3   age          714 non-null    float64 \n",
      " 4   sibsp        891 non-null    int64   \n",
      " 5   parch        891 non-null    int64   \n",
      " 6   fare         891 non-null    float64 \n",
      " 7   embarked     889 non-null    object  \n",
      " 8   class        891 non-null    category\n",
      " 9   who          891 non-null    object  \n",
      " 10  adult_male   891 non-null    bool    \n",
      " 11  deck         203 non-null    category\n",
      " 12  embark_town  889 non-null    object  \n",
      " 13  alive        891 non-null    object  \n",
      " 14  alone        891 non-null    bool    \n",
      "dtypes: bool(2), category(2), float64(2), int64(4), object(5)\n",
      "memory usage: 80.7+ KB\n"
     ]
    }
   ],
   "source": [
    "titanic.info()"
   ]
  },
  {
   "cell_type": "markdown",
   "id": "2d87cb61-f9dc-405b-8ba8-dfac68e5758a",
   "metadata": {},
   "source": [
    "Here are some description of variables : \n",
    "\n",
    "- `survival`: Survival, 0 = No, 1 = Yes\n",
    "- `pclass` : Ticket class, 1 = 1st, 2 = 2nd, 3 = 3rd\n",
    "- `sex` : Sex\n",
    "- `Age`: Age in years\n",
    "- `sibsp`: # of siblings / spouses aboard the Titanic\t\n",
    "- `parch`: # of parents / children aboard the Titanic\t\n",
    "- `ticket`: Ticket number\n",
    "- `fare`: Passenger fare\n",
    "- `deck`: Passenger Deck\n",
    "- `embarked`: Port of Embarkation, C = Cherbourg, Q = Queenstown, S = Southampton\n",
    "- `embark_town` : Port of Embarkation : Cherbourg, Queenstown, Southampton"
   ]
  },
  {
   "cell_type": "markdown",
   "id": "b61c75db-ff5d-4daf-bfe2-2b8e508fede8",
   "metadata": {
    "tags": []
   },
   "source": [
    "### Data type"
   ]
  },
  {
   "cell_type": "markdown",
   "id": "e9202ad7-02bb-4401-950d-b473763fd644",
   "metadata": {},
   "source": [
    "pclass is a categorical column, so we need to convert it"
   ]
  },
  {
   "cell_type": "code",
   "execution_count": 7,
   "id": "59a6b70c-37bf-4fd5-8dd6-52d1c6bf70ee",
   "metadata": {},
   "outputs": [
    {
     "name": "stdout",
     "output_type": "stream",
     "text": [
      "<class 'pandas.core.frame.DataFrame'>\n",
      "RangeIndex: 891 entries, 0 to 890\n",
      "Data columns (total 1 columns):\n",
      " #   Column  Non-Null Count  Dtype   \n",
      "---  ------  --------------  -----   \n",
      " 0   pclass  891 non-null    category\n",
      "dtypes: category(1)\n",
      "memory usage: 1.1 KB\n"
     ]
    }
   ],
   "source": [
    "titanic['pclass']= titanic['pclass'].astype('category')\n",
    "# Check\n",
    "titanic[['pclass']].info()"
   ]
  },
  {
   "cell_type": "code",
   "execution_count": 13,
   "id": "a44498ed-ea0e-4634-a037-9b486ca4042f",
   "metadata": {},
   "outputs": [
    {
     "data": {
      "text/plain": [
       "[NaN, 'C', 'E', 'G', 'D', 'A', 'B', 'F']\n",
       "Categories (7, object): ['A', 'B', 'C', 'D', 'E', 'F', 'G']"
      ]
     },
     "execution_count": 13,
     "metadata": {},
     "output_type": "execute_result"
    }
   ],
   "source": [
    "titanic.deck.unique()"
   ]
  },
  {
   "cell_type": "markdown",
   "id": "41db69b8-de80-45bc-bd46-55abb3a7085e",
   "metadata": {
    "tags": []
   },
   "source": [
    "### Remove unnecessary features"
   ]
  },
  {
   "cell_type": "markdown",
   "id": "92c9b8e3-e8e7-46af-9b62-abc6d70f4528",
   "metadata": {},
   "source": [
    "For sex: `sex`, `who` and `adult_male` columns provide redundant information.\n",
    "\n",
    "We'll delete than the `who` and `adult_male` columns"
   ]
  },
  {
   "cell_type": "code",
   "execution_count": 8,
   "id": "3a9506bd-8c89-4d98-bde2-5bfb9b54fbc6",
   "metadata": {},
   "outputs": [],
   "source": [
    "titanic = titanic.drop(['who','adult_male'], axis = 1)"
   ]
  },
  {
   "cell_type": "markdown",
   "id": "7fcf4971-ef0a-4ea3-bd97-69fd2837c906",
   "metadata": {},
   "source": [
    "The same thing applies to :\n",
    "- `embarked` and `embark_town`, which represent the passenger's port of embarkation. This is redundant information, so we'll remove the `embark_town` column\n",
    "- `survived` and `alive`, wich represente the passenger's survival.This is redundant information, so we'll remove the `alive` column\n",
    "- `pclass` and `class`, wich represente the passenger's class.This is redundant information, so we'll remove the `class` column"
   ]
  },
  {
   "cell_type": "code",
   "execution_count": 9,
   "id": "11241167-2fd0-4064-b485-4e1d9ca47246",
   "metadata": {},
   "outputs": [
    {
     "data": {
      "text/html": [
       "<div>\n",
       "<style scoped>\n",
       "    .dataframe tbody tr th:only-of-type {\n",
       "        vertical-align: middle;\n",
       "    }\n",
       "\n",
       "    .dataframe tbody tr th {\n",
       "        vertical-align: top;\n",
       "    }\n",
       "\n",
       "    .dataframe thead th {\n",
       "        text-align: right;\n",
       "    }\n",
       "</style>\n",
       "<table border=\"1\" class=\"dataframe\">\n",
       "  <thead>\n",
       "    <tr style=\"text-align: right;\">\n",
       "      <th></th>\n",
       "      <th>survived</th>\n",
       "      <th>pclass</th>\n",
       "      <th>sex</th>\n",
       "      <th>age</th>\n",
       "      <th>sibsp</th>\n",
       "      <th>parch</th>\n",
       "      <th>fare</th>\n",
       "      <th>embarked</th>\n",
       "      <th>deck</th>\n",
       "      <th>alone</th>\n",
       "    </tr>\n",
       "  </thead>\n",
       "  <tbody>\n",
       "    <tr>\n",
       "      <th>0</th>\n",
       "      <td>0</td>\n",
       "      <td>3</td>\n",
       "      <td>male</td>\n",
       "      <td>22.0</td>\n",
       "      <td>1</td>\n",
       "      <td>0</td>\n",
       "      <td>7.2500</td>\n",
       "      <td>S</td>\n",
       "      <td>NaN</td>\n",
       "      <td>False</td>\n",
       "    </tr>\n",
       "    <tr>\n",
       "      <th>1</th>\n",
       "      <td>1</td>\n",
       "      <td>1</td>\n",
       "      <td>female</td>\n",
       "      <td>38.0</td>\n",
       "      <td>1</td>\n",
       "      <td>0</td>\n",
       "      <td>71.2833</td>\n",
       "      <td>C</td>\n",
       "      <td>C</td>\n",
       "      <td>False</td>\n",
       "    </tr>\n",
       "    <tr>\n",
       "      <th>2</th>\n",
       "      <td>1</td>\n",
       "      <td>3</td>\n",
       "      <td>female</td>\n",
       "      <td>26.0</td>\n",
       "      <td>0</td>\n",
       "      <td>0</td>\n",
       "      <td>7.9250</td>\n",
       "      <td>S</td>\n",
       "      <td>NaN</td>\n",
       "      <td>True</td>\n",
       "    </tr>\n",
       "    <tr>\n",
       "      <th>3</th>\n",
       "      <td>1</td>\n",
       "      <td>1</td>\n",
       "      <td>female</td>\n",
       "      <td>35.0</td>\n",
       "      <td>1</td>\n",
       "      <td>0</td>\n",
       "      <td>53.1000</td>\n",
       "      <td>S</td>\n",
       "      <td>C</td>\n",
       "      <td>False</td>\n",
       "    </tr>\n",
       "    <tr>\n",
       "      <th>4</th>\n",
       "      <td>0</td>\n",
       "      <td>3</td>\n",
       "      <td>male</td>\n",
       "      <td>35.0</td>\n",
       "      <td>0</td>\n",
       "      <td>0</td>\n",
       "      <td>8.0500</td>\n",
       "      <td>S</td>\n",
       "      <td>NaN</td>\n",
       "      <td>True</td>\n",
       "    </tr>\n",
       "  </tbody>\n",
       "</table>\n",
       "</div>"
      ],
      "text/plain": [
       "   survived pclass     sex   age  sibsp  parch     fare embarked deck  alone\n",
       "0         0      3    male  22.0      1      0   7.2500        S  NaN  False\n",
       "1         1      1  female  38.0      1      0  71.2833        C    C  False\n",
       "2         1      3  female  26.0      0      0   7.9250        S  NaN   True\n",
       "3         1      1  female  35.0      1      0  53.1000        S    C  False\n",
       "4         0      3    male  35.0      0      0   8.0500        S  NaN   True"
      ]
     },
     "execution_count": 9,
     "metadata": {},
     "output_type": "execute_result"
    }
   ],
   "source": [
    "titanic = titanic.drop(['embark_town','alive', 'class'], axis = 1)\n",
    "titanic.head()"
   ]
  },
  {
   "cell_type": "code",
   "execution_count": 69,
   "id": "2a20eb4f-c97f-4614-b263-d10cb4b10403",
   "metadata": {},
   "outputs": [
    {
     "data": {
      "text/html": [
       "<div>\n",
       "<style scoped>\n",
       "    .dataframe tbody tr th:only-of-type {\n",
       "        vertical-align: middle;\n",
       "    }\n",
       "\n",
       "    .dataframe tbody tr th {\n",
       "        vertical-align: top;\n",
       "    }\n",
       "\n",
       "    .dataframe thead th {\n",
       "        text-align: right;\n",
       "    }\n",
       "</style>\n",
       "<table border=\"1\" class=\"dataframe\">\n",
       "  <thead>\n",
       "    <tr style=\"text-align: right;\">\n",
       "      <th></th>\n",
       "      <th>survived</th>\n",
       "      <th>age</th>\n",
       "      <th>sibsp</th>\n",
       "      <th>parch</th>\n",
       "      <th>fare</th>\n",
       "    </tr>\n",
       "  </thead>\n",
       "  <tbody>\n",
       "    <tr>\n",
       "      <th>count</th>\n",
       "      <td>891.000000</td>\n",
       "      <td>714.000000</td>\n",
       "      <td>891.000000</td>\n",
       "      <td>891.000000</td>\n",
       "      <td>891.000000</td>\n",
       "    </tr>\n",
       "    <tr>\n",
       "      <th>mean</th>\n",
       "      <td>0.383838</td>\n",
       "      <td>29.699118</td>\n",
       "      <td>0.523008</td>\n",
       "      <td>0.381594</td>\n",
       "      <td>32.204208</td>\n",
       "    </tr>\n",
       "    <tr>\n",
       "      <th>std</th>\n",
       "      <td>0.486592</td>\n",
       "      <td>14.526497</td>\n",
       "      <td>1.102743</td>\n",
       "      <td>0.806057</td>\n",
       "      <td>49.693429</td>\n",
       "    </tr>\n",
       "    <tr>\n",
       "      <th>min</th>\n",
       "      <td>0.000000</td>\n",
       "      <td>0.420000</td>\n",
       "      <td>0.000000</td>\n",
       "      <td>0.000000</td>\n",
       "      <td>0.000000</td>\n",
       "    </tr>\n",
       "    <tr>\n",
       "      <th>25%</th>\n",
       "      <td>0.000000</td>\n",
       "      <td>20.125000</td>\n",
       "      <td>0.000000</td>\n",
       "      <td>0.000000</td>\n",
       "      <td>7.910400</td>\n",
       "    </tr>\n",
       "    <tr>\n",
       "      <th>50%</th>\n",
       "      <td>0.000000</td>\n",
       "      <td>28.000000</td>\n",
       "      <td>0.000000</td>\n",
       "      <td>0.000000</td>\n",
       "      <td>14.454200</td>\n",
       "    </tr>\n",
       "    <tr>\n",
       "      <th>75%</th>\n",
       "      <td>1.000000</td>\n",
       "      <td>38.000000</td>\n",
       "      <td>1.000000</td>\n",
       "      <td>0.000000</td>\n",
       "      <td>31.000000</td>\n",
       "    </tr>\n",
       "    <tr>\n",
       "      <th>max</th>\n",
       "      <td>1.000000</td>\n",
       "      <td>80.000000</td>\n",
       "      <td>8.000000</td>\n",
       "      <td>6.000000</td>\n",
       "      <td>512.329200</td>\n",
       "    </tr>\n",
       "  </tbody>\n",
       "</table>\n",
       "</div>"
      ],
      "text/plain": [
       "         survived         age       sibsp       parch        fare\n",
       "count  891.000000  714.000000  891.000000  891.000000  891.000000\n",
       "mean     0.383838   29.699118    0.523008    0.381594   32.204208\n",
       "std      0.486592   14.526497    1.102743    0.806057   49.693429\n",
       "min      0.000000    0.420000    0.000000    0.000000    0.000000\n",
       "25%      0.000000   20.125000    0.000000    0.000000    7.910400\n",
       "50%      0.000000   28.000000    0.000000    0.000000   14.454200\n",
       "75%      1.000000   38.000000    1.000000    0.000000   31.000000\n",
       "max      1.000000   80.000000    8.000000    6.000000  512.329200"
      ]
     },
     "execution_count": 69,
     "metadata": {},
     "output_type": "execute_result"
    }
   ],
   "source": [
    "# describe numerical data type\n",
    "titanic.describe()"
   ]
  },
  {
   "cell_type": "code",
   "execution_count": 70,
   "id": "b86140a1-e77f-47eb-a689-605a5f5e7c09",
   "metadata": {},
   "outputs": [
    {
     "data": {
      "text/html": [
       "<div>\n",
       "<style scoped>\n",
       "    .dataframe tbody tr th:only-of-type {\n",
       "        vertical-align: middle;\n",
       "    }\n",
       "\n",
       "    .dataframe tbody tr th {\n",
       "        vertical-align: top;\n",
       "    }\n",
       "\n",
       "    .dataframe thead th {\n",
       "        text-align: right;\n",
       "    }\n",
       "</style>\n",
       "<table border=\"1\" class=\"dataframe\">\n",
       "  <thead>\n",
       "    <tr style=\"text-align: right;\">\n",
       "      <th></th>\n",
       "      <th>pclass</th>\n",
       "      <th>sex</th>\n",
       "      <th>embarked</th>\n",
       "      <th>deck</th>\n",
       "      <th>alone</th>\n",
       "    </tr>\n",
       "  </thead>\n",
       "  <tbody>\n",
       "    <tr>\n",
       "      <th>count</th>\n",
       "      <td>891</td>\n",
       "      <td>891</td>\n",
       "      <td>889</td>\n",
       "      <td>203</td>\n",
       "      <td>891</td>\n",
       "    </tr>\n",
       "    <tr>\n",
       "      <th>unique</th>\n",
       "      <td>3</td>\n",
       "      <td>2</td>\n",
       "      <td>3</td>\n",
       "      <td>7</td>\n",
       "      <td>2</td>\n",
       "    </tr>\n",
       "    <tr>\n",
       "      <th>top</th>\n",
       "      <td>3</td>\n",
       "      <td>male</td>\n",
       "      <td>S</td>\n",
       "      <td>C</td>\n",
       "      <td>True</td>\n",
       "    </tr>\n",
       "    <tr>\n",
       "      <th>freq</th>\n",
       "      <td>491</td>\n",
       "      <td>577</td>\n",
       "      <td>644</td>\n",
       "      <td>59</td>\n",
       "      <td>537</td>\n",
       "    </tr>\n",
       "  </tbody>\n",
       "</table>\n",
       "</div>"
      ],
      "text/plain": [
       "        pclass   sex embarked deck alone\n",
       "count      891   891      889  203   891\n",
       "unique       3     2        3    7     2\n",
       "top          3  male        S    C  True\n",
       "freq       491   577      644   59   537"
      ]
     },
     "execution_count": 70,
     "metadata": {},
     "output_type": "execute_result"
    }
   ],
   "source": [
    "titanic.describe(include = ['object', 'category', 'bool'])"
   ]
  },
  {
   "cell_type": "markdown",
   "id": "885e3acd-0033-4266-af2f-95b0308bf235",
   "metadata": {},
   "source": [
    "top = mode :  the most frequent category "
   ]
  },
  {
   "cell_type": "markdown",
   "id": "be186aa3-1964-4f7c-a469-3cb099e8a621",
   "metadata": {
    "tags": []
   },
   "source": [
    "### Target class distribution"
   ]
  },
  {
   "cell_type": "code",
   "execution_count": 10,
   "id": "22fd4374-6b3f-4651-8ec2-d5c7f0e89db0",
   "metadata": {},
   "outputs": [
    {
     "name": "stdout",
     "output_type": "stream",
     "text": [
      "0    0.616162\n",
      "1    0.383838\n",
      "Name: survived, dtype: float64\n"
     ]
    },
    {
     "data": {
      "image/png": "[encoded data removed]",
      "text/plain": [
       "<Figure size 432x288 with 1 Axes>"
      ]
     },
     "metadata": {
      "needs_background": "light"
     },
     "output_type": "display_data"
    }
   ],
   "source": [
    "print(titanic['survived'].value_counts()/len(titanic))\n",
    "sns.countplot(x='survived', data=titanic)\n",
    "plt.show()"
   ]
  },
  {
   "cell_type": "markdown",
   "id": "cc574e99-447d-4bef-94f7-7b75b3a8026d",
   "metadata": {
    "tags": []
   },
   "source": [
    "## 2. Data Preprocessing"
   ]
  },
  {
   "cell_type": "markdown",
   "id": "e553e312-4df5-4c11-95dd-6c9618c488b7",
   "metadata": {},
   "source": [
    "Before training the model, we need to preprocess the data. This includes handling missing values, converting categorical data into numerical data, and splitting the data into training and testing sets."
   ]
  },
  {
   "cell_type": "markdown",
   "id": "ff6436c4-ab02-4a61-9ac3-7b52baf5c674",
   "metadata": {},
   "source": [
    "### 1. Handling missing values"
   ]
  },
  {
   "cell_type": "code",
   "execution_count": 11,
   "id": "31fb1f83-7a5f-48ea-9d15-c2239f270745",
   "metadata": {},
   "outputs": [
    {
     "data": {
      "text/plain": [
       "deck        77.216611\n",
       "age         19.865320\n",
       "embarked     0.224467\n",
       "survived     0.000000\n",
       "pclass       0.000000\n",
       "sex          0.000000\n",
       "sibsp        0.000000\n",
       "parch        0.000000\n",
       "fare         0.000000\n",
       "alone        0.000000\n",
       "dtype: float64"
      ]
     },
     "execution_count": 11,
     "metadata": {},
     "output_type": "execute_result"
    }
   ],
   "source": [
    "titanic.isnull().sum().sort_values(ascending=False)/len(titanic)*100"
   ]
  },
  {
   "cell_type": "markdown",
   "id": "63731f19-a54f-4ba1-8fa5-df269f51eb13",
   "metadata": {},
   "source": [
    "We'll delete the `deck` column because it accounts for 77% of missing values. This column doesn't provide much information about our passenger.\n",
    "\n",
    "We will then remove the remaining missing values in the dataset.."
   ]
  },
  {
   "cell_type": "code",
   "execution_count": 12,
   "id": "a40529b6-66a7-43f5-a76f-458bcb0e9f89",
   "metadata": {},
   "outputs": [
    {
     "data": {
      "text/plain": [
       "age         19.865320\n",
       "embarked     0.224467\n",
       "survived     0.000000\n",
       "pclass       0.000000\n",
       "sex          0.000000\n",
       "sibsp        0.000000\n",
       "parch        0.000000\n",
       "fare         0.000000\n",
       "alone        0.000000\n",
       "dtype: float64"
      ]
     },
     "execution_count": 12,
     "metadata": {},
     "output_type": "execute_result"
    }
   ],
   "source": [
    "# Dropping the column deck\n",
    "titanic = titanic.drop(['deck'], axis = 1)\n",
    "# Check\n",
    "titanic.isnull().sum().sort_values(ascending=False)/len(titanic)*100"
   ]
  },
  {
   "cell_type": "code",
   "execution_count": 13,
   "id": "8918623d-d2d0-47ef-aa0d-ff8ac609b8ef",
   "metadata": {},
   "outputs": [
    {
     "data": {
      "text/plain": [
       "survived    0.0\n",
       "pclass      0.0\n",
       "sex         0.0\n",
       "age         0.0\n",
       "sibsp       0.0\n",
       "parch       0.0\n",
       "fare        0.0\n",
       "embarked    0.0\n",
       "alone       0.0\n",
       "dtype: float64"
      ]
     },
     "execution_count": 13,
     "metadata": {},
     "output_type": "execute_result"
    }
   ],
   "source": [
    "# Drope the remaning missing value in age, embarked columns\n",
    "titanic = titanic.dropna()\n",
    "# Check\n",
    "titanic.isnull().sum().sort_values(ascending=False)/len(titanic)*100"
   ]
  },
  {
   "cell_type": "markdown",
   "id": "a906083c-fee1-4d32-a308-4d228add9eb1",
   "metadata": {},
   "source": [
    "- Check the target class distribution"
   ]
  },
  {
   "cell_type": "code",
   "execution_count": 17,
   "id": "9629701b-241b-429a-908b-1ec0ed20c3e2",
   "metadata": {},
   "outputs": [
    {
     "name": "stdout",
     "output_type": "stream",
     "text": [
      "0    0.595506\n",
      "1    0.404494\n",
      "Name: survived, dtype: float64\n"
     ]
    },
    {
     "data": {
      "image/png": "[encoded data removed]",
      "text/plain": [
       "<Figure size 432x288 with 1 Axes>"
      ]
     },
     "metadata": {
      "needs_background": "light"
     },
     "output_type": "display_data"
    }
   ],
   "source": [
    "# Check the the target class distribution\n",
    "print(titanic['survived'].value_counts()/len(titanic))\n",
    "sns.countplot(x='survived', data=titanic)\n",
    "plt.show()"
   ]
  },
  {
   "cell_type": "markdown",
   "id": "e0442df8-1788-4786-bb2d-0f4dc6e9d6e0",
   "metadata": {},
   "source": [
    "### 2. Features selection"
   ]
  },
  {
   "cell_type": "markdown",
   "id": "3a8fc125-8d61-4d0b-8026-513d09e106e2",
   "metadata": {},
   "source": [
    "To build our machine learning model, we will focus on the following features:\n",
    "- `age`\n",
    "- `sex`\n",
    "- `pclass`\n",
    "- `embarked`\n",
    "- `alone`\n",
    "- `sibsp`\n",
    "- `parch`"
   ]
  },
  {
   "cell_type": "markdown",
   "id": "5df22c4e-2265-4a88-81de-449ac2ab92d6",
   "metadata": {},
   "source": [
    "`sibsp` and `parch` are discrete variable"
   ]
  },
  {
   "cell_type": "code",
   "execution_count": 21,
   "id": "8394df27-b6a6-4a89-bf6b-d86d75e25e51",
   "metadata": {},
   "outputs": [
    {
     "data": {
      "image/png": "[encoded data removed]",
      "text/plain": [
       "<Figure size 432x288 with 1 Axes>"
      ]
     },
     "metadata": {
      "needs_background": "light"
     },
     "output_type": "display_data"
    }
   ],
   "source": [
    "sns.scatterplot(x = 'sibsp', y = 'parch', data = titanic)\n",
    "plt.show()"
   ]
  },
  {
   "cell_type": "code",
   "execution_count": 24,
   "id": "c361f0d6-6d05-4fae-bbab-d1206fb9ae55",
   "metadata": {},
   "outputs": [
    {
     "data": {
      "text/plain": [
       "0    469\n",
       "1    183\n",
       "2     25\n",
       "4     18\n",
       "3     12\n",
       "5      5\n",
       "Name: sibsp, dtype: int64"
      ]
     },
     "execution_count": 24,
     "metadata": {},
     "output_type": "execute_result"
    }
   ],
   "source": [
    "titanic['sibsp'].value_counts()"
   ]
  },
  {
   "cell_type": "code",
   "execution_count": 25,
   "id": "d33f3c6c-d841-4401-b9de-11f4cca13279",
   "metadata": {},
   "outputs": [
    {
     "data": {
      "text/plain": [
       "0    519\n",
       "1    110\n",
       "2     68\n",
       "5      5\n",
       "3      5\n",
       "4      4\n",
       "6      1\n",
       "Name: parch, dtype: int64"
      ]
     },
     "execution_count": 25,
     "metadata": {},
     "output_type": "execute_result"
    }
   ],
   "source": [
    "titanic['parch'].value_counts()"
   ]
  },
  {
   "cell_type": "code",
   "execution_count": 31,
   "id": "293da01a-2725-4516-9f77-6b24ac1467b5",
   "metadata": {},
   "outputs": [],
   "source": [
    "# Select features\n",
    "X = titanic[['pclass', 'age', 'sex','embarked','alone', 'parch', 'sibsp']] \n",
    "\n",
    "y = titanic['survived']"
   ]
  },
  {
   "cell_type": "code",
   "execution_count": 28,
   "id": "7ef69c08-e66c-46d5-8f93-d9ab3b6c5716",
   "metadata": {},
   "outputs": [
    {
     "data": {
      "text/html": [
       "<div>\n",
       "<style scoped>\n",
       "    .dataframe tbody tr th:only-of-type {\n",
       "        vertical-align: middle;\n",
       "    }\n",
       "\n",
       "    .dataframe tbody tr th {\n",
       "        vertical-align: top;\n",
       "    }\n",
       "\n",
       "    .dataframe thead th {\n",
       "        text-align: right;\n",
       "    }\n",
       "</style>\n",
       "<table border=\"1\" class=\"dataframe\">\n",
       "  <thead>\n",
       "    <tr style=\"text-align: right;\">\n",
       "      <th></th>\n",
       "      <th>pclass</th>\n",
       "      <th>age</th>\n",
       "      <th>sex</th>\n",
       "      <th>embarked</th>\n",
       "      <th>alone</th>\n",
       "      <th>parch</th>\n",
       "      <th>sibsp</th>\n",
       "    </tr>\n",
       "  </thead>\n",
       "  <tbody>\n",
       "    <tr>\n",
       "      <th>0</th>\n",
       "      <td>3</td>\n",
       "      <td>22.0</td>\n",
       "      <td>male</td>\n",
       "      <td>S</td>\n",
       "      <td>False</td>\n",
       "      <td>0</td>\n",
       "      <td>1</td>\n",
       "    </tr>\n",
       "    <tr>\n",
       "      <th>1</th>\n",
       "      <td>1</td>\n",
       "      <td>38.0</td>\n",
       "      <td>female</td>\n",
       "      <td>C</td>\n",
       "      <td>False</td>\n",
       "      <td>0</td>\n",
       "      <td>1</td>\n",
       "    </tr>\n",
       "    <tr>\n",
       "      <th>2</th>\n",
       "      <td>3</td>\n",
       "      <td>26.0</td>\n",
       "      <td>female</td>\n",
       "      <td>S</td>\n",
       "      <td>True</td>\n",
       "      <td>0</td>\n",
       "      <td>0</td>\n",
       "    </tr>\n",
       "    <tr>\n",
       "      <th>3</th>\n",
       "      <td>1</td>\n",
       "      <td>35.0</td>\n",
       "      <td>female</td>\n",
       "      <td>S</td>\n",
       "      <td>False</td>\n",
       "      <td>0</td>\n",
       "      <td>1</td>\n",
       "    </tr>\n",
       "    <tr>\n",
       "      <th>4</th>\n",
       "      <td>3</td>\n",
       "      <td>35.0</td>\n",
       "      <td>male</td>\n",
       "      <td>S</td>\n",
       "      <td>True</td>\n",
       "      <td>0</td>\n",
       "      <td>0</td>\n",
       "    </tr>\n",
       "  </tbody>\n",
       "</table>\n",
       "</div>"
      ],
      "text/plain": [
       "  pclass   age     sex embarked  alone  parch  sibsp\n",
       "0      3  22.0    male        S  False      0      1\n",
       "1      1  38.0  female        C  False      0      1\n",
       "2      3  26.0  female        S   True      0      0\n",
       "3      1  35.0  female        S  False      0      1\n",
       "4      3  35.0    male        S   True      0      0"
      ]
     },
     "execution_count": 28,
     "metadata": {},
     "output_type": "execute_result"
    }
   ],
   "source": [
    "X.head()"
   ]
  },
  {
   "cell_type": "markdown",
   "id": "d738332d-8ae4-434c-b4ab-88cc7006ccd8",
   "metadata": {},
   "source": [
    "### 3. Handle categorical variables"
   ]
  },
  {
   "cell_type": "markdown",
   "id": "87d8f7eb-4e65-48e8-9d30-7912aae57c7a",
   "metadata": {},
   "source": [
    "The `get_dummies()` function, part of the pandas library in Python, is a useful tool for transforming categorical data into dummy or indicator variables. \n",
    "\n",
    "In this process, each category within a categorical variable is turned into a separate column in the dataset, with the values in these columns set as 0s and 1s. A value of 1 signifies that the category is applicable, while a 0 denotes its absence.\n",
    "\n",
    "However, this process can create redundancy in your dataset, leading to what is known as the dummy variable trap. This trap arises when you can easily deduce the value of one variable from the values of the other variables. For example, if you know the values of n-1 variables, you can determine the value of the nth variable.\n",
    "\n",
    "To avoid this trap, you can use the `drop_first = True` option in the `get_dummies()` function. This removes the first dummy variable, effectively eliminating the redundancy. This does not result in any loss of information because the remaining n-1 variables still convey all the necessary information about the original variable that had n categories."
   ]
  },
  {
   "cell_type": "code",
   "execution_count": 32,
   "id": "45e55c42-126b-434f-b553-013507fbc0a9",
   "metadata": {},
   "outputs": [
    {
     "data": {
      "text/html": [
       "<div>\n",
       "<style scoped>\n",
       "    .dataframe tbody tr th:only-of-type {\n",
       "        vertical-align: middle;\n",
       "    }\n",
       "\n",
       "    .dataframe tbody tr th {\n",
       "        vertical-align: top;\n",
       "    }\n",
       "\n",
       "    .dataframe thead th {\n",
       "        text-align: right;\n",
       "    }\n",
       "</style>\n",
       "<table border=\"1\" class=\"dataframe\">\n",
       "  <thead>\n",
       "    <tr style=\"text-align: right;\">\n",
       "      <th></th>\n",
       "      <th>age</th>\n",
       "      <th>parch</th>\n",
       "      <th>sibsp</th>\n",
       "      <th>sex_male</th>\n",
       "      <th>pclass_2</th>\n",
       "      <th>pclass_3</th>\n",
       "      <th>embarked_Q</th>\n",
       "      <th>embarked_S</th>\n",
       "      <th>alone_True</th>\n",
       "    </tr>\n",
       "  </thead>\n",
       "  <tbody>\n",
       "    <tr>\n",
       "      <th>0</th>\n",
       "      <td>22.0</td>\n",
       "      <td>0</td>\n",
       "      <td>1</td>\n",
       "      <td>1</td>\n",
       "      <td>0</td>\n",
       "      <td>1</td>\n",
       "      <td>0</td>\n",
       "      <td>1</td>\n",
       "      <td>0</td>\n",
       "    </tr>\n",
       "    <tr>\n",
       "      <th>1</th>\n",
       "      <td>38.0</td>\n",
       "      <td>0</td>\n",
       "      <td>1</td>\n",
       "      <td>0</td>\n",
       "      <td>0</td>\n",
       "      <td>0</td>\n",
       "      <td>0</td>\n",
       "      <td>0</td>\n",
       "      <td>0</td>\n",
       "    </tr>\n",
       "    <tr>\n",
       "      <th>2</th>\n",
       "      <td>26.0</td>\n",
       "      <td>0</td>\n",
       "      <td>0</td>\n",
       "      <td>0</td>\n",
       "      <td>0</td>\n",
       "      <td>1</td>\n",
       "      <td>0</td>\n",
       "      <td>1</td>\n",
       "      <td>1</td>\n",
       "    </tr>\n",
       "    <tr>\n",
       "      <th>3</th>\n",
       "      <td>35.0</td>\n",
       "      <td>0</td>\n",
       "      <td>1</td>\n",
       "      <td>0</td>\n",
       "      <td>0</td>\n",
       "      <td>0</td>\n",
       "      <td>0</td>\n",
       "      <td>1</td>\n",
       "      <td>0</td>\n",
       "    </tr>\n",
       "    <tr>\n",
       "      <th>4</th>\n",
       "      <td>35.0</td>\n",
       "      <td>0</td>\n",
       "      <td>0</td>\n",
       "      <td>1</td>\n",
       "      <td>0</td>\n",
       "      <td>1</td>\n",
       "      <td>0</td>\n",
       "      <td>1</td>\n",
       "      <td>1</td>\n",
       "    </tr>\n",
       "  </tbody>\n",
       "</table>\n",
       "</div>"
      ],
      "text/plain": [
       "    age  parch  sibsp  sex_male  pclass_2  pclass_3  embarked_Q  embarked_S  \\\n",
       "0  22.0      0      1         1         0         1           0           1   \n",
       "1  38.0      0      1         0         0         0           0           0   \n",
       "2  26.0      0      0         0         0         1           0           1   \n",
       "3  35.0      0      1         0         0         0           0           1   \n",
       "4  35.0      0      0         1         0         1           0           1   \n",
       "\n",
       "   alone_True  \n",
       "0           0  \n",
       "1           0  \n",
       "2           1  \n",
       "3           0  \n",
       "4           1  "
      ]
     },
     "execution_count": 32,
     "metadata": {},
     "output_type": "execute_result"
    }
   ],
   "source": [
    "X = pd.get_dummies(X, columns=['sex', 'pclass', 'embarked', 'alone'], drop_first = True, dtyp = int)\n",
    "# Check\n",
    "X.head()"
   ]
  },
  {
   "cell_type": "markdown",
   "id": "21b8ea2f-dc9e-4ffa-85e8-3a231d94e415",
   "metadata": {},
   "source": [
    "### 4. Split the data into training and testing sets"
   ]
  },
  {
   "cell_type": "code",
   "execution_count": 33,
   "id": "ada3aef3-ea11-4866-bbe8-7353c64412f8",
   "metadata": {},
   "outputs": [],
   "source": [
    "X_train, X_test, y_train, y_test = train_test_split(X, y, test_size=0.2, random_state=42)"
   ]
  },
  {
   "cell_type": "markdown",
   "id": "1a079023-509e-452c-a684-ec3366110205",
   "metadata": {},
   "source": [
    "Here, we're dealing with missing values by dropping any rows that contain them, and we're converting the 'sex' column from a categorical variable to a numerical one. Finally, we're splitting the dataset into a training set (80% of the data) and a testing set (20% of the data)."
   ]
  },
  {
   "cell_type": "markdown",
   "id": "7d95ebdc-e8a5-40cb-b2bb-7731e025e178",
   "metadata": {
    "tags": []
   },
   "source": [
    "## 3. Model Training"
   ]
  },
  {
   "cell_type": "markdown",
   "id": "3f231514-bd4d-47c6-b83f-84fad7cffe5a",
   "metadata": {},
   "source": [
    "Now we're ready to train our model. For this activity, we'll use a decision tree classifier."
   ]
  },
  {
   "cell_type": "code",
   "execution_count": 34,
   "id": "17be0415-7d9c-4481-9ca3-d5cab8694f6a",
   "metadata": {},
   "outputs": [
    {
     "data": {
      "text/plain": [
       "DecisionTreeClassifier(random_state=42)"
      ]
     },
     "execution_count": 34,
     "metadata": {},
     "output_type": "execute_result"
    }
   ],
   "source": [
    "# Initialize the model\n",
    "dt_clf = DecisionTreeClassifier(random_state=42)\n",
    "\n",
    "# Train the model\n",
    "dt_clf.fit(X_train, y_train)"
   ]
  },
  {
   "cell_type": "markdown",
   "id": "b8c69ab6-980a-4b28-8b3a-793d3f2d006c",
   "metadata": {},
   "source": [
    "We're initializing a decision tree classifier and fitting it to our training data. This trains the model to predict survival based on the features we provided ('pclass', 'sex', and 'age')."
   ]
  },
  {
   "cell_type": "markdown",
   "id": "9b3ab869-1e9a-44fa-bdc9-d0a103a39190",
   "metadata": {},
   "source": [
    "## 4. Model Evaluation"
   ]
  },
  {
   "cell_type": "markdown",
   "id": "5d815f4c-e7c7-483e-ab65-56b39c0b7cdc",
   "metadata": {},
   "source": [
    "Finally, let's evaluate our model using accuracy score and confusion matrix."
   ]
  },
  {
   "cell_type": "code",
   "execution_count": 35,
   "id": "6fd93307-3c4a-41ae-a9d6-ac7d0c0b1c20",
   "metadata": {},
   "outputs": [
    {
     "name": "stdout",
     "output_type": "stream",
     "text": [
      "Accuracy: 0.7622377622377622\n",
      "Confusion Matrix:\n",
      "[[68 12]\n",
      " [22 41]]\n"
     ]
    }
   ],
   "source": [
    "# Make predictions\n",
    "y_pred_dt = dt_clf.predict(X_test)\n",
    "\n",
    "# Calculate accuracy\n",
    "accuracy = accuracy_score(y_test, y_pred_dt)\n",
    "print(f'Accuracy: {accuracy}')\n",
    "\n",
    "# Show confusion matrix\n",
    "cm = confusion_matrix(y_test, y_pred_dt)\n",
    "print(f'Confusion Matrix:\\n{cm}')"
   ]
  },
  {
   "cell_type": "markdown",
   "id": "bc295105-b297-4e4d-8d8e-748f3448a0a4",
   "metadata": {},
   "source": [
    "Here, we're making predictions on our testing set and calculating the accuracy of those predictions. The accuracy score is the proportion of correct predictions made by the model. The confusion matrix shows the breakdown of true positives, true negatives, false positives, and false negatives."
   ]
  },
  {
   "cell_type": "markdown",
   "id": "a6d9f37d-a581-4125-b50e-f1b0d5d6f231",
   "metadata": {},
   "source": [
    "- **Accuracy**"
   ]
  },
  {
   "cell_type": "code",
   "execution_count": 51,
   "id": "5c1e372a-becd-4577-a1d7-1bbebef6237d",
   "metadata": {},
   "outputs": [
    {
     "data": {
      "text/plain": [
       "0.7622377622377622"
      ]
     },
     "execution_count": 51,
     "metadata": {},
     "output_type": "execute_result"
    }
   ],
   "source": [
    "Accuracy = (68+41)/(68+12+22+41)\n",
    "Accuracy"
   ]
  },
  {
   "cell_type": "markdown",
   "id": "ada29fe8-39c1-4182-a6ce-59b469851705",
   "metadata": {},
   "source": [
    "=> 76% the model gives correct predictions"
   ]
  },
  {
   "cell_type": "code",
   "execution_count": 50,
   "id": "a73a0bc8-b749-4103-80cf-2f6f168a6cab",
   "metadata": {},
   "outputs": [
    {
     "name": "stdout",
     "output_type": "stream",
     "text": [
      "              precision    recall  f1-score   support\n",
      "\n",
      "           0       0.76      0.85      0.80        80\n",
      "           1       0.77      0.65      0.71        63\n",
      "\n",
      "    accuracy                           0.76       143\n",
      "   macro avg       0.76      0.75      0.75       143\n",
      "weighted avg       0.76      0.76      0.76       143\n",
      "\n"
     ]
    }
   ],
   "source": [
    "print(classification_report(y_test, y_pred_dt))"
   ]
  },
  {
   "cell_type": "markdown",
   "id": "d76d56e6-5bfb-4be0-9346-d96fb00b7031",
   "metadata": {},
   "source": [
    "Confution matrix illustration"
   ]
  },
  {
   "cell_type": "markdown",
   "id": "d35bea40-0021-4c7e-8418-18810aa66d94",
   "metadata": {},
   "source": [
    "                                    Predict\n",
    "                            Negative     Positive\n",
    "                               0            1   \n",
    "                               \n",
    "     Not Survived      0       TN          FP   \n",
    "        \n",
    "        Survived       1       FN           TP   \n"
   ]
  },
  {
   "cell_type": "markdown",
   "id": "9dca95c0-6db3-4786-8da9-674bf5352aad",
   "metadata": {},
   "source": [
    "                 Predict\n",
    "                 \n",
    "                0      1    Recall\n",
    "\n",
    "        0       68     12   0.85\n",
    "        \n",
    "        1       22     41   0.65\n",
    "\n",
    "    Precision  0.76   0.77  "
   ]
  },
  {
   "cell_type": "markdown",
   "id": "b56479c5-46e6-46a1-acaf-e25e3d54a67a",
   "metadata": {},
   "source": [
    "- **Precision**"
   ]
  },
  {
   "cell_type": "markdown",
   "id": "33a23c74-6368-48d4-b759-96cbbcc2a563",
   "metadata": {},
   "source": [
    "For class 0 : Not survived"
   ]
  },
  {
   "cell_type": "code",
   "execution_count": 39,
   "id": "7822a790-fa0f-4673-847c-53abbbdea0e9",
   "metadata": {},
   "outputs": [
    {
     "data": {
      "text/plain": [
       "0.7555555555555555"
      ]
     },
     "execution_count": 39,
     "metadata": {},
     "output_type": "execute_result"
    }
   ],
   "source": [
    "precision_class0 = 68/(68+22)\n",
    "precision_class0"
   ]
  },
  {
   "cell_type": "markdown",
   "id": "bdbac22a-97a8-4a9e-bc9e-700ce2c31010",
   "metadata": {},
   "source": [
    "=> 76% the model predict corecctly the Not survived of passenger, Class : 0"
   ]
  },
  {
   "cell_type": "markdown",
   "id": "6380446a-e1a8-49aa-b338-deef50e4fc03",
   "metadata": {},
   "source": [
    "For class 1 : Survived"
   ]
  },
  {
   "cell_type": "code",
   "execution_count": 40,
   "id": "56a4df09-c8ae-43e2-a81c-b8128b864734",
   "metadata": {},
   "outputs": [
    {
     "data": {
      "text/plain": [
       "0.7735849056603774"
      ]
     },
     "execution_count": 40,
     "metadata": {},
     "output_type": "execute_result"
    }
   ],
   "source": [
    "precision_class1 = 41/(12+41)\n",
    "precision_class1"
   ]
  },
  {
   "cell_type": "markdown",
   "id": "4f3db75d-1166-43ce-96f1-278c60052fe3",
   "metadata": {},
   "source": [
    "=> 77% the model predict corecctly the survived of passenger, Class : 1"
   ]
  },
  {
   "cell_type": "markdown",
   "id": "72a8f2f3-89bd-4a47-91aa-efefb13631e7",
   "metadata": {},
   "source": [
    "- **Recall**"
   ]
  },
  {
   "cell_type": "markdown",
   "id": "6793e063-b5e6-4f77-a487-0547805c9334",
   "metadata": {},
   "source": [
    "Class 0 :  Not survived"
   ]
  },
  {
   "cell_type": "code",
   "execution_count": 41,
   "id": "375f5189-495c-40c5-a352-991845765532",
   "metadata": {},
   "outputs": [
    {
     "data": {
      "text/plain": [
       "0.85"
      ]
     },
     "execution_count": 41,
     "metadata": {},
     "output_type": "execute_result"
    }
   ],
   "source": [
    "recall_class0 = 68/(68+12)\n",
    "recall_class0"
   ]
  },
  {
   "cell_type": "markdown",
   "id": "988ea915-87bb-4637-a244-55e8d57394bc",
   "metadata": {},
   "source": [
    "=> The model correctly identifies 85% pessenger as Not servived (Class 0)"
   ]
  },
  {
   "cell_type": "markdown",
   "id": "9c0f0cb6-ea70-4184-9aa8-1162bcb05df6",
   "metadata": {},
   "source": [
    "Class 1 : Survived"
   ]
  },
  {
   "cell_type": "code",
   "execution_count": 42,
   "id": "6c748306-a1c8-46b2-b417-5861373d4bb9",
   "metadata": {},
   "outputs": [
    {
     "data": {
      "text/plain": [
       "0.6507936507936508"
      ]
     },
     "execution_count": 42,
     "metadata": {},
     "output_type": "execute_result"
    }
   ],
   "source": [
    "recall_class1 = 41/(22+41)\n",
    "recall_class1"
   ]
  },
  {
   "cell_type": "markdown",
   "id": "90691c58-e6b9-45dd-b179-70bef9132360",
   "metadata": {},
   "source": [
    "=> he model correctly identifies 65% pessenger as servived (Class 1)"
   ]
  },
  {
   "cell_type": "code",
   "execution_count": 55,
   "id": "2e9440a1-8a85-4703-9193-a8a8186518eb",
   "metadata": {},
   "outputs": [
    {
     "data": {
      "text/plain": [
       "array([1, 1, 0, 1, 0, 0, 1, 0, 0, 1, 0, 0, 0, 0, 1, 1, 1, 0, 1, 1, 0, 1,\n",
       "       1, 0, 0, 1, 0, 1, 0, 1, 1, 0, 0, 0, 0, 0, 0, 1, 0, 0, 0, 0, 0, 0,\n",
       "       0, 0, 0, 0, 0, 1, 0, 0, 1, 1, 0, 0, 1, 1, 0, 0, 1, 1, 0, 1, 0, 0,\n",
       "       0, 0, 1, 0, 0, 0, 0, 0, 1, 0, 0, 0, 0, 1, 1, 1, 0, 0, 0, 0, 1, 1,\n",
       "       0, 1, 0, 0, 0, 0, 0, 1, 1, 0, 1, 1, 0, 0, 0, 0, 0, 0, 1, 0, 0, 0,\n",
       "       1, 0, 0, 0, 1, 0, 0, 0, 1, 1, 0, 1, 1, 1, 1, 1, 0, 1, 0, 0, 1, 0,\n",
       "       0, 0, 0, 0, 0, 1, 0, 1, 0, 1, 1], dtype=int64)"
      ]
     },
     "execution_count": 55,
     "metadata": {},
     "output_type": "execute_result"
    }
   ],
   "source": [
    "y_pred_dt = dt_clf.predict(X_test)\n",
    "y_pred_dt"
   ]
  },
  {
   "cell_type": "markdown",
   "id": "71a86121-92a5-43c7-9492-d72983a1bf41",
   "metadata": {},
   "source": [
    "- Example of prediction\n",
    "thresholds = 0.5\n",
    "if the proba > 0.5 => class = 1\n",
    "if not the proba <= 0.5 => class = 0"
   ]
  },
  {
   "cell_type": "code",
   "execution_count": 60,
   "id": "4ca08d2a-5c81-4eb6-ae7f-927963454ece",
   "metadata": {},
   "outputs": [
    {
     "data": {
      "text/plain": [
       "array([1.        , 1.        , 0.        , 1.        , 0.        ,\n",
       "       0.        , 1.        , 0.        , 0.        , 0.66666667,\n",
       "       0.        , 0.        , 0.        , 0.        , 1.        ,\n",
       "       0.57142857, 1.        , 0.        , 1.        , 1.        ,\n",
       "       0.        , 1.        , 1.        , 0.        , 0.        ,\n",
       "       1.        , 0.        , 1.        , 0.25      , 1.        ,\n",
       "       1.        , 0.        , 0.        , 0.09090909, 0.        ,\n",
       "       0.        , 0.        , 1.        , 0.        , 0.        ,\n",
       "       0.        , 0.        , 0.        , 0.        , 0.        ,\n",
       "       0.        , 0.        , 0.        , 0.        , 1.        ,\n",
       "       0.        , 0.        , 1.        , 1.        , 0.        ,\n",
       "       0.        , 1.        , 1.        , 0.5       , 0.        ,\n",
       "       1.        , 1.        , 0.        , 1.        , 0.5       ,\n",
       "       0.        , 0.2       , 0.        , 1.        , 0.5       ,\n",
       "       0.        , 0.        , 0.        , 0.2       , 1.        ,\n",
       "       0.33333333, 0.        , 0.        , 0.        , 1.        ,\n",
       "       1.        , 1.        , 0.        , 0.        , 0.        ,\n",
       "       0.        , 1.        , 1.        , 0.        , 1.        ,\n",
       "       0.        , 0.        , 0.25      , 0.        , 0.        ,\n",
       "       1.        , 1.        , 0.        , 1.        , 1.        ,\n",
       "       0.        , 0.        , 0.        , 0.        , 0.        ,\n",
       "       0.        , 1.        , 0.        , 0.        , 0.        ,\n",
       "       1.        , 0.        , 0.        , 0.        , 1.        ,\n",
       "       0.        , 0.        , 0.        , 1.        , 0.66666667,\n",
       "       0.        , 1.        , 1.        , 1.        , 1.        ,\n",
       "       1.        , 0.        , 1.        , 0.        , 0.        ,\n",
       "       1.        , 0.        , 0.        , 0.        , 0.        ,\n",
       "       0.        , 0.33333333, 1.        , 0.        , 1.        ,\n",
       "       0.        , 1.        , 0.57142857])"
      ]
     },
     "execution_count": 60,
     "metadata": {},
     "output_type": "execute_result"
    }
   ],
   "source": [
    "y_pred_proba_dt = dt_clf.predict_proba(X_test)[:,1]\n",
    "y_pred_proba_dt"
   ]
  },
  {
   "cell_type": "code",
   "execution_count": 52,
   "id": "a3e4e9f4-781b-49e5-909c-ee0345d4890b",
   "metadata": {},
   "outputs": [
    {
     "data": {
      "image/png": "[encoded data removed]",
      "text/plain": [
       "<Figure size 720x576 with 1 Axes>"
      ]
     },
     "metadata": {
      "needs_background": "light"
     },
     "output_type": "display_data"
    }
   ],
   "source": [
    "# Get the model's probability predictions for the positive class\n",
    "y_pred_proba_dt = dt_clf.predict_proba(X_test)[::,1]\n",
    "\n",
    "# Compute the ROC curve\n",
    "fpr_dt, tpr_dt, thresholds = roc_curve(y_test, y_pred_proba_dt)\n",
    "\n",
    "# Calculate AUC\n",
    "roc_auc_dt = roc_auc_score(y_test, y_pred_proba_dt)\n",
    "\n",
    "# Plot the ROC curve\n",
    "plt.figure(figsize=(10, 8))\n",
    "plt.plot(fpr_dt, tpr_dt, label=f'Decision Tree (AUC = {roc_auc_dt:.2f})')\n",
    "\n",
    "# Plot the diagonal line for a random classifier\n",
    "plt.plot([0, 1], [0, 1], linestyle='--', color='red', label='Random Classifier')\n",
    "\n",
    "plt.xlabel('False Positive Rate')\n",
    "plt.ylabel('True Positive Rate')\n",
    "plt.title('Receiver Operating Characteristic (ROC) Curve')\n",
    "plt.legend()\n",
    "\n",
    "plt.show()"
   ]
  },
  {
   "cell_type": "markdown",
   "id": "d6675e1c-a3e6-446e-a8b3-901037f34bef",
   "metadata": {
    "tags": []
   },
   "source": [
    "## 5. Visualizing the Decision Tree"
   ]
  },
  {
   "cell_type": "markdown",
   "id": "46ba089b-2b83-471f-a16a-a82ba738743f",
   "metadata": {},
   "source": [
    "visualizing the decision tree can be done using libraries like `sklearn` and `matplotlib`. Here is how you could add a visualization of the decision tree to the activity:"
   ]
  },
  {
   "cell_type": "code",
   "execution_count": 61,
   "id": "1f44a0ce-9feb-4e19-bf9c-93479f549971",
   "metadata": {},
   "outputs": [
    {
     "data": {
      "image/png": "[encoded data removed]",
      "text/plain": [
       "<Figure size 1080x1080 with 1 Axes>"
      ]
     },
     "metadata": {
      "needs_background": "light"
     },
     "output_type": "display_data"
    }
   ],
   "source": [
    "# Plot the decision tree\n",
    "plt.figure(figsize=(15,15))\n",
    "plot_tree(dt_clf, feature_names=X.columns, class_names=['0','1'], filled=True)\n",
    "plt.show()"
   ]
  },
  {
   "cell_type": "markdown",
   "id": "1034a75e-b7b7-4957-9482-3d7f873399f4",
   "metadata": {},
   "source": [
    "This will produce a visual representation of the decision tree. Each node in the tree represents a decision (a split), with the topmost node being the first (best) decision the model makes based on the features.\n",
    "\n",
    "This code creates a decision tree, fits it to the training data, and then uses matplotlib and sklearn.tree's plot_tree function to create a visual representation of the decision tree. The feature_names parameter is used to label the splits, and the class_names parameter is used to label the leaves.\n",
    "\n",
    "Remember that decision trees can get very complex when dealing with large datasets, so the resulting plot might be too large and complicated to be easily interpretable if your dataset has a lot of features or if the tree is very deep."
   ]
  },
  {
   "cell_type": "markdown",
   "id": "b17d46fa-d446-4e9a-a76f-33f943fe1e48",
   "metadata": {},
   "source": [
    "This will generate a plot of the decision tree. Each node in the tree represents a decision (a split), with the topmost node being the first (best) decision the model makes based on the features. This can help you understand what factors the model considers important in predicting a passenger's survival."
   ]
  },
  {
   "cell_type": "markdown",
   "id": "4a4cb8e1-baf3-4629-88d5-c107f1fc41f0",
   "metadata": {},
   "source": [
    "# Random Forest"
   ]
  },
  {
   "cell_type": "markdown",
   "id": "152d168c-c75c-4596-8060-234a02f0db45",
   "metadata": {},
   "source": [
    "Random Forest is an ensemble method that trains multiple decision trees and averages their predictions."
   ]
  },
  {
   "cell_type": "markdown",
   "id": "8666bfdd-f0e8-46f4-9201-fa54e4bcb8ca",
   "metadata": {},
   "source": [
    "## 1. Model Training"
   ]
  },
  {
   "cell_type": "code",
   "execution_count": 64,
   "id": "dcfb3788-8334-4e12-a322-68c00358f78c",
   "metadata": {},
   "outputs": [
    {
     "data": {
      "text/plain": [
       "RandomForestClassifier(random_state=42)"
      ]
     },
     "execution_count": 64,
     "metadata": {},
     "output_type": "execute_result"
    }
   ],
   "source": [
    "# Initialize the model\n",
    "rf_clf = RandomForestClassifier(random_state=42)\n",
    "\n",
    "# Train the model\n",
    "rf_clf.fit(X_train, y_train)\n"
   ]
  },
  {
   "cell_type": "markdown",
   "id": "9ed1dbeb-b0ea-4697-8ac5-6777f95beb30",
   "metadata": {},
   "source": [
    "## 2. Model Evaluation"
   ]
  },
  {
   "cell_type": "markdown",
   "id": "494f1848-b205-4a9a-97b3-a8561b433af6",
   "metadata": {},
   "source": [
    "- Confusion Matrix"
   ]
  },
  {
   "cell_type": "code",
   "execution_count": 65,
   "id": "59a60436-e128-4e7e-b395-b803a6dda682",
   "metadata": {},
   "outputs": [
    {
     "name": "stdout",
     "output_type": "stream",
     "text": [
      "Accuracy: 0.7762237762237763\n",
      "Confusion Matrix:\n",
      "[[67 13]\n",
      " [19 44]]\n"
     ]
    }
   ],
   "source": [
    "# Make predictions\n",
    "y_pred_rf = rf_clf.predict(X_test)\n",
    "\n",
    "# Calculate accuracy\n",
    "accuracy = accuracy_score(y_test, y_pred_rf)\n",
    "print(f'Accuracy: {accuracy}')\n",
    "\n",
    "# Show confusion matrix\n",
    "cm = confusion_matrix(y_test, y_pred_rf)\n",
    "print(f'Confusion Matrix:\\n{cm}')"
   ]
  },
  {
   "cell_type": "code",
   "execution_count": 66,
   "id": "298f61e3-e0d1-4216-9ae6-f89be0704c72",
   "metadata": {},
   "outputs": [
    {
     "name": "stdout",
     "output_type": "stream",
     "text": [
      "              precision    recall  f1-score   support\n",
      "\n",
      "           0       0.78      0.84      0.81        80\n",
      "           1       0.77      0.70      0.73        63\n",
      "\n",
      "    accuracy                           0.78       143\n",
      "   macro avg       0.78      0.77      0.77       143\n",
      "weighted avg       0.78      0.78      0.77       143\n",
      "\n"
     ]
    }
   ],
   "source": [
    "print(classification_report(y_test, y_pred_rf))"
   ]
  },
  {
   "cell_type": "markdown",
   "id": "a24f9b8c-061c-4c57-8470-50fda30152c5",
   "metadata": {},
   "source": [
    "- ROC Curve "
   ]
  },
  {
   "cell_type": "code",
   "execution_count": 67,
   "id": "eee59adc-8584-4e97-af06-fc2350627df5",
   "metadata": {},
   "outputs": [
    {
     "data": {
      "image/png": "[encoded data removed]",
      "text/plain": [
       "<Figure size 720x576 with 1 Axes>"
      ]
     },
     "metadata": {
      "needs_background": "light"
     },
     "output_type": "display_data"
    }
   ],
   "source": [
    "# Get the model's probability predictions for the positive class\n",
    "y_pred_proba_rf = rf_clf.predict_proba(X_test)[::,1]\n",
    "\n",
    "# Compute the ROC curve\n",
    "fpr_rf, tpr_rf, thresholds = roc_curve(y_test, y_pred_proba_rf)\n",
    "\n",
    "# Calculate AUC\n",
    "roc_auc_rf = roc_auc_score(y_test, y_pred_proba_rf)\n",
    "\n",
    "# Plot the ROC curve\n",
    "plt.figure(figsize=(10, 8))\n",
    "plt.plot(fpr_rf, tpr_rf, label=f'Random Forest (AUC = {roc_auc_rf:.2f})')\n",
    "\n",
    "# Plot the diagonal line for a random classifier\n",
    "plt.plot([0, 1], [0, 1], linestyle='--', color='red', label='Random Classifier')\n",
    "\n",
    "plt.xlabel('False Positive Rate')\n",
    "plt.ylabel('True Positive Rate')\n",
    "plt.title('Receiver Operating Characteristic (ROC) Curve')\n",
    "plt.legend()\n",
    "\n",
    "plt.show()"
   ]
  },
  {
   "cell_type": "markdown",
   "id": "37122155-2b53-452a-8398-732f69e53ca5",
   "metadata": {},
   "source": [
    "# Comparison : Decision Tree vs Random Forest "
   ]
  },
  {
   "cell_type": "markdown",
   "id": "ca1693d3-e16d-4968-a9d9-d2a74d94c2d6",
   "metadata": {},
   "source": [
    "Besides accuracy and the confusion matrix, another way to evaluate model performance is the ROC Curve, which shows the trade-off between true positive rate and false positive rate. The area under the ROC Curve (AUC) can be used as a single number summary of model performance."
   ]
  },
  {
   "cell_type": "code",
   "execution_count": 68,
   "id": "c61dd56e-698f-45c1-a10f-288828cbd48d",
   "metadata": {},
   "outputs": [
    {
     "data": {
      "image/png": "[encoded data removed]",
      "text/plain": [
       "<Figure size 432x288 with 1 Axes>"
      ]
     },
     "metadata": {
      "needs_background": "light"
     },
     "output_type": "display_data"
    }
   ],
   "source": [
    "# Decision Tree\n",
    "plt.plot(fpr_dt,tpr_dt,label=\"Decision Tree, auc=\"+str(roc_auc_dt))\n",
    "\n",
    "# Random Forest\n",
    "plt.plot(fpr_rf,tpr_rf,label=\"Random Forest, auc=\"+str(roc_auc_rf))\n",
    "\n",
    "plt.legend(loc=4)\n",
    "plt.show()"
   ]
  },
  {
   "cell_type": "markdown",
   "id": "65018eee-7c6c-4047-ab04-ea6de6fcebb5",
   "metadata": {},
   "source": [
    "This will plot ROC curves for both the Decision Tree and Random Forest classifiers, along with their respective AUC scores. This graphical comparison can be really helpful to understand which model performs better on your classification task."
   ]
  },
  {
   "cell_type": "markdown",
   "id": "fe9ac866-2cb6-4ef9-8d9a-5e7c3800c5d9",
   "metadata": {},
   "source": [
    "Based on the AUC metrics, it can be concluded that the Random Forest model exhibits superior prediction performance compared to the Decision Tree model."
   ]
  },
  {
   "cell_type": "code",
   "execution_count": null,
   "id": "2ce32b60-69d3-43a0-af8f-3987fbe588f4",
   "metadata": {},
   "outputs": [],
   "source": []
  }
 ],
 "metadata": {
  "kernelspec": {
   "display_name": "Python 3 (ipykernel)",
   "language": "python",
   "name": "python3"
  },
  "language_info": {
   "codemirror_mode": {
    "name": "ipython",
    "version": 3
   },
   "file_extension": ".py",
   "mimetype": "text/x-python",
   "name": "python",
   "nbconvert_exporter": "python",
   "pygments_lexer": "ipython3",
   "version": "3.9.12"
  }
 },
 "nbformat": 4,
 "nbformat_minor": 5
}
