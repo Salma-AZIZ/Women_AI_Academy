{
 "cells": [
  {
   "cell_type": "markdown",
   "id": "3d9935e0-8cfe-4afd-9041-d3d79b155982",
   "metadata": {},
   "source": [
    "# Supervised learning : Handling Overfitting for Linear Regression"
   ]
  },
  {
   "cell_type": "markdown",
   "id": "7cbdf2b2-8a7a-4b05-8207-2271b8a84be7",
   "metadata": {},
   "source": [
    "## Import necessary libraries and modules"
   ]
  },
  {
   "cell_type": "code",
   "execution_count": 2,
   "id": "10e3cc4c-cc6e-4454-ba4e-83eab4a33549",
   "metadata": {},
   "outputs": [],
   "source": [
    "import pandas as pd\n",
    "import numpy as np\n",
    "\n",
    "from sklearn.datasets import fetch_california_housing\n",
    "\n",
    "from sklearn.model_selection import train_test_split, cross_val_score\n",
    "from sklearn.preprocessing import StandardScaler\n",
    "\n",
    "from sklearn.linear_model import LinearRegression, Ridge, RidgeCV,Ridge, Lasso, LassoCV\n",
    "\n",
    "from sklearn.metrics import mean_squared_error"
   ]
  },
  {
   "cell_type": "markdown",
   "id": "99032056-8ad7-4cb7-9fcd-2080bd8f94d3",
   "metadata": {},
   "source": [
    "## 1. Load California housing dataset"
   ]
  },
  {
   "cell_type": "code",
   "execution_count": 3,
   "id": "043a07f0-0661-40bc-8fe7-d77d7a49438c",
   "metadata": {},
   "outputs": [
    {
     "data": {
      "text/html": [
       "<div>\n",
       "<style scoped>\n",
       "    .dataframe tbody tr th:only-of-type {\n",
       "        vertical-align: middle;\n",
       "    }\n",
       "\n",
       "    .dataframe tbody tr th {\n",
       "        vertical-align: top;\n",
       "    }\n",
       "\n",
       "    .dataframe thead th {\n",
       "        text-align: right;\n",
       "    }\n",
       "</style>\n",
       "<table border=\"1\" class=\"dataframe\">\n",
       "  <thead>\n",
       "    <tr style=\"text-align: right;\">\n",
       "      <th></th>\n",
       "      <th>MedInc</th>\n",
       "      <th>HouseAge</th>\n",
       "      <th>AveRooms</th>\n",
       "      <th>AveBedrms</th>\n",
       "      <th>Population</th>\n",
       "      <th>AveOccup</th>\n",
       "      <th>Latitude</th>\n",
       "      <th>Longitude</th>\n",
       "      <th>MedHouseVal</th>\n",
       "    </tr>\n",
       "  </thead>\n",
       "  <tbody>\n",
       "    <tr>\n",
       "      <th>0</th>\n",
       "      <td>8.3252</td>\n",
       "      <td>41.0</td>\n",
       "      <td>6.984127</td>\n",
       "      <td>1.023810</td>\n",
       "      <td>322.0</td>\n",
       "      <td>2.555556</td>\n",
       "      <td>37.88</td>\n",
       "      <td>-122.23</td>\n",
       "      <td>4.526</td>\n",
       "    </tr>\n",
       "    <tr>\n",
       "      <th>1</th>\n",
       "      <td>8.3014</td>\n",
       "      <td>21.0</td>\n",
       "      <td>6.238137</td>\n",
       "      <td>0.971880</td>\n",
       "      <td>2401.0</td>\n",
       "      <td>2.109842</td>\n",
       "      <td>37.86</td>\n",
       "      <td>-122.22</td>\n",
       "      <td>3.585</td>\n",
       "    </tr>\n",
       "    <tr>\n",
       "      <th>2</th>\n",
       "      <td>7.2574</td>\n",
       "      <td>52.0</td>\n",
       "      <td>8.288136</td>\n",
       "      <td>1.073446</td>\n",
       "      <td>496.0</td>\n",
       "      <td>2.802260</td>\n",
       "      <td>37.85</td>\n",
       "      <td>-122.24</td>\n",
       "      <td>3.521</td>\n",
       "    </tr>\n",
       "    <tr>\n",
       "      <th>3</th>\n",
       "      <td>5.6431</td>\n",
       "      <td>52.0</td>\n",
       "      <td>5.817352</td>\n",
       "      <td>1.073059</td>\n",
       "      <td>558.0</td>\n",
       "      <td>2.547945</td>\n",
       "      <td>37.85</td>\n",
       "      <td>-122.25</td>\n",
       "      <td>3.413</td>\n",
       "    </tr>\n",
       "    <tr>\n",
       "      <th>4</th>\n",
       "      <td>3.8462</td>\n",
       "      <td>52.0</td>\n",
       "      <td>6.281853</td>\n",
       "      <td>1.081081</td>\n",
       "      <td>565.0</td>\n",
       "      <td>2.181467</td>\n",
       "      <td>37.85</td>\n",
       "      <td>-122.25</td>\n",
       "      <td>3.422</td>\n",
       "    </tr>\n",
       "  </tbody>\n",
       "</table>\n",
       "</div>"
      ],
      "text/plain": [
       "   MedInc  HouseAge  AveRooms  AveBedrms  Population  AveOccup  Latitude  \\\n",
       "0  8.3252      41.0  6.984127   1.023810       322.0  2.555556     37.88   \n",
       "1  8.3014      21.0  6.238137   0.971880      2401.0  2.109842     37.86   \n",
       "2  7.2574      52.0  8.288136   1.073446       496.0  2.802260     37.85   \n",
       "3  5.6431      52.0  5.817352   1.073059       558.0  2.547945     37.85   \n",
       "4  3.8462      52.0  6.281853   1.081081       565.0  2.181467     37.85   \n",
       "\n",
       "   Longitude  MedHouseVal  \n",
       "0    -122.23        4.526  \n",
       "1    -122.22        3.585  \n",
       "2    -122.24        3.521  \n",
       "3    -122.25        3.413  \n",
       "4    -122.25        3.422  "
      ]
     },
     "execution_count": 3,
     "metadata": {},
     "output_type": "execute_result"
    }
   ],
   "source": [
    "data = fetch_california_housing(as_frame=True)\n",
    "df = data.frame\n",
    "df.head()"
   ]
  },
  {
   "cell_type": "markdown",
   "id": "88a0eb95-1dfd-45d2-9a8a-7b1695cb4218",
   "metadata": {
    "tags": []
   },
   "source": [
    "## 2. Data-preprocesing"
   ]
  },
  {
   "cell_type": "markdown",
   "id": "c4d5bc2d-8f69-4909-a024-ef6fcfaf5e89",
   "metadata": {},
   "source": [
    "We first load the data, define the features (X) and the target (y), and split them into a training set and a test set. We'll then apply feature scaling to normalize the range of independent variables or features of data."
   ]
  },
  {
   "cell_type": "markdown",
   "id": "590c5f6f-17ad-4ef2-a60b-45084c2542cd",
   "metadata": {},
   "source": [
    "### Define features and target"
   ]
  },
  {
   "cell_type": "code",
   "execution_count": 4,
   "id": "e2546e14-b642-4b4b-b14d-487fecbd64d2",
   "metadata": {},
   "outputs": [],
   "source": [
    "X = df.drop('MedHouseVal', axis=1)\n",
    "y = df['MedHouseVal']"
   ]
  },
  {
   "cell_type": "markdown",
   "id": "db5cee08-d594-4b03-8a1e-270a0e68ada7",
   "metadata": {
    "tags": []
   },
   "source": [
    "### Feature Scaling"
   ]
  },
  {
   "cell_type": "code",
   "execution_count": 5,
   "id": "3f758d36-9a0a-48e3-b8d3-af6f2b93537e",
   "metadata": {},
   "outputs": [],
   "source": [
    "scaler = StandardScaler()\n",
    "X_scaled = scaler.fit_transform(X)"
   ]
  },
  {
   "cell_type": "markdown",
   "id": "7261d768-4628-4d43-96c2-2834dff390ac",
   "metadata": {},
   "source": [
    "### Split the dataset into training set and test set"
   ]
  },
  {
   "cell_type": "code",
   "execution_count": 6,
   "id": "751e58b0-a04c-4652-a14c-320013902129",
   "metadata": {},
   "outputs": [],
   "source": [
    "X_train, X_test, y_train, y_test = train_test_split(X_scaled, y, test_size=0.2, random_state=42)"
   ]
  },
  {
   "cell_type": "markdown",
   "id": "2b67733e-1401-45eb-a724-b1c4e12f454e",
   "metadata": {},
   "source": [
    "# Linear Regression"
   ]
  },
  {
   "cell_type": "code",
   "execution_count": 7,
   "id": "7e42c11e-dbc3-4726-881d-eef4305e68d0",
   "metadata": {},
   "outputs": [
    {
     "name": "stdout",
     "output_type": "stream",
     "text": [
      "Linear Regression\n",
      "Training MSE: 0.5179331255246699\n",
      "Test MSE: 0.5558915986952442\n"
     ]
    }
   ],
   "source": [
    "lin_reg = LinearRegression()\n",
    "lin_reg.fit(X_train, y_train)\n",
    "\n",
    "lin_train_pred = lin_reg.predict(X_train)\n",
    "lin_test_pred = lin_reg.predict(X_test)\n",
    "\n",
    "mse_lin_reg_train = mean_squared_error(y_train, lin_train_pred)\n",
    "mse_lin_reg_test = mean_squared_error(y_test, lin_test_pred)\n",
    "\n",
    "print('Linear Regression')\n",
    "print('Training MSE:', mean_squared_error(y_train, lin_train_pred))\n",
    "print('Test MSE:', mean_squared_error(y_test, lin_test_pred))"
   ]
  },
  {
   "cell_type": "markdown",
   "id": "0af508b2-f515-427d-85d9-04eca9018120",
   "metadata": {},
   "source": [
    "### Evaluating Linear Regression using Cross Validation"
   ]
  },
  {
   "cell_type": "code",
   "execution_count": 8,
   "id": "85496d72-86be-4d07-833f-85ac9858e3c2",
   "metadata": {},
   "outputs": [
    {
     "name": "stdout",
     "output_type": "stream",
     "text": [
      "Average cross-validation score for Linear Regression:  0.5582901717686556\n"
     ]
    }
   ],
   "source": [
    "# Perform cross-validation\n",
    "scores_lin_reg_CV = cross_val_score(lin_reg, X_scaled, y, cv=5, scoring='neg_mean_squared_error') # Evaluating trainning data on 5 folds\n",
    "\n",
    "# Calculate the average MSE across all folds\n",
    "mse_lin_reg_CV = -scores_lin_reg_CV.mean()\n",
    "\n",
    "# Print the average MSE for linear regression\n",
    "print(\"Average cross-validation score for Linear Regression: \", mse_lin_reg_CV) "
   ]
  },
  {
   "cell_type": "markdown",
   "id": "7d83b8e1-4dbf-4737-962c-0f97627f68bb",
   "metadata": {},
   "source": [
    "# Regularisation techniques :  Ridge & Lasso"
   ]
  },
  {
   "cell_type": "markdown",
   "id": "d0546327-aeb7-4476-a2f0-9cab8e4db8e1",
   "metadata": {},
   "source": [
    "In this step we'll train our data using regularization techniques.\n",
    "\n",
    "Ridge and Lasso Regression: these are regularization techniques where a penalty is added to the loss function to shrink the coefficients of features. \n",
    "\n",
    "**Ridge** uses L2 regularization (squared magnitude of coefficient as penalty term) and tends to reduce coefficients for less important features. \n",
    "\n",
    "**Loss function for Ridge = Mean Squared Error + α x (sum of squares of all feature coefficients)**\n",
    "\n",
    "**Lasso** uses L1 regularization (absolute value of the magnitude of coefficient as penalty term) and can make some feature coefficients zero, effectively performing feature selection.\n",
    "\n",
    "**Loss function = Mean Squared Error + α x (sum of absolute values of all feature coefficients)**\n"
   ]
  },
  {
   "cell_type": "markdown",
   "id": "81e86d84-cff5-44c9-917f-d2fe8b65eb4f",
   "metadata": {},
   "source": [
    "**Note** : \n",
    "\n",
    "- The alpha parameter in Ridge and Lasso corresponds to the strength of the regularization. You can experiment with different alpha values to see how they affect the model's performance.\n",
    "\n",
    "- Ridge and Lasso regression are sensitive to the scale of input features, which is why it's important to perform feature scaling before applying these methods. The StandardScaler we used earlier ensures this.\n",
    "\n",
    "- That Mean Squared Error (MSE) is a loss function, meaning lower values are better. When comparing models, the model with the lower MSE is generally the better one."
   ]
  },
  {
   "cell_type": "markdown",
   "id": "078e93f4-d7fb-496d-8445-bfa16e05f0ce",
   "metadata": {},
   "source": [
    "## 1. Regularisation techniques without cross-validation"
   ]
  },
  {
   "cell_type": "markdown",
   "id": "7cd9359a-696c-48e2-acb3-9ce67c5fd6f6",
   "metadata": {},
   "source": [
    "### Ridge regression"
   ]
  },
  {
   "cell_type": "markdown",
   "id": "7ac976e3-0c9a-49cb-93e3-ee96f7054b73",
   "metadata": {},
   "source": [
    "For Ridge regression, we choose an alpha = 1"
   ]
  },
  {
   "cell_type": "code",
   "execution_count": 10,
   "id": "32026e57-a284-4f4d-b972-efd6d1043a95",
   "metadata": {},
   "outputs": [
    {
     "name": "stdout",
     "output_type": "stream",
     "text": [
      "Ridge Regression Without cross-validation\n",
      "Training MSE: 0.5179332209751273\n",
      "Test MSE: 0.5558512007367511\n"
     ]
    }
   ],
   "source": [
    "ridge_reg = Ridge(alpha=1.0)\n",
    "ridge_reg.fit(X_train, y_train)\n",
    "\n",
    "ridge_train_pred = ridge_reg.predict(X_train)\n",
    "ridge_test_pred = ridge_reg.predict(X_test)\n",
    "\n",
    "mse_ridge_train = mean_squared_error(y_train, ridge_train_pred)\n",
    "mse_ridge_test = mean_squared_error(y_test, ridge_test_pred)\n",
    "\n",
    "print('Ridge Regression Without cross-validation')\n",
    "print('Training MSE:', mse_ridge_train)\n",
    "print('Test MSE:', mse_ridge_test)"
   ]
  },
  {
   "cell_type": "markdown",
   "id": "425f46e2-ee07-4cc3-9436-7100c68f4ab6",
   "metadata": {
    "tags": []
   },
   "source": [
    "### Lasso Regression"
   ]
  },
  {
   "cell_type": "markdown",
   "id": "41d05a54-8347-4640-a18d-0423770e691c",
   "metadata": {},
   "source": [
    "For Lasso regression, we choose an alpha = 0.1"
   ]
  },
  {
   "cell_type": "code",
   "execution_count": 11,
   "id": "937e6268-6540-4a83-bfe1-edab645306f0",
   "metadata": {},
   "outputs": [
    {
     "name": "stdout",
     "output_type": "stream",
     "text": [
      "\n",
      "Lasso Regression Without cross-validation\n",
      "Training MSE: 0.6717535785617642\n",
      "Test MSE: 0.6795515190149223\n"
     ]
    }
   ],
   "source": [
    "lasso_reg = Lasso(alpha=0.1)\n",
    "lasso_reg.fit(X_train, y_train)\n",
    "\n",
    "lasso_train_pred = lasso_reg.predict(X_train)\n",
    "lasso_test_pred = lasso_reg.predict(X_test)\n",
    "\n",
    "mse_lasso_train =mean_squared_error(y_train, lasso_train_pred)\n",
    "mse_lasso_test = mean_squared_error(y_test, lasso_test_pred)\n",
    "\n",
    "print('\\nLasso Regression Without cross-validation')\n",
    "print('Training MSE:', mse_lasso_train)\n",
    "print('Test MSE:', mse_lasso_test)"
   ]
  },
  {
   "cell_type": "markdown",
   "id": "7e24aa7b-4c6a-4fcf-9e07-e56701ab39a0",
   "metadata": {},
   "source": [
    "## 2. Regularisation techniques with cross validation"
   ]
  },
  {
   "cell_type": "markdown",
   "id": "acc83715-48c4-4f51-a825-362f7322417c",
   "metadata": {},
   "source": [
    "In this step, we'll define first a list of alpha values that we want to test. \n",
    "\n",
    "We'll then train a RidgeCV and LassoCV model on the training data, which will automatically use cross-validation to find the best alpha value from the list provided (the cv parameter of these functions is the number of cross-validation folds (5 in this case)).\n",
    "\n",
    "We'll predict the target for the training and test data and calculate the Mean Squared Error (MSE) for both Ridge and Lasso models."
   ]
  },
  {
   "cell_type": "markdown",
   "id": "3d0dac53-9862-4e12-94fa-6101a4470038",
   "metadata": {},
   "source": [
    "### Define alpha values to test"
   ]
  },
  {
   "cell_type": "code",
   "execution_count": 12,
   "id": "119236fd-80d0-44da-8bcc-d11c4cc6cd42",
   "metadata": {},
   "outputs": [],
   "source": [
    "alphas = [0.001, 0.01, 0.1, 1, 10, 100]"
   ]
  },
  {
   "cell_type": "markdown",
   "id": "2da02e95-c1a7-45ef-8b42-94707c9e0b34",
   "metadata": {},
   "source": [
    "## 1. Ridge Regression with Cross-Validation"
   ]
  },
  {
   "cell_type": "code",
   "execution_count": 13,
   "id": "4996c543-5390-4de2-bd53-bd4ec262cdbc",
   "metadata": {},
   "outputs": [
    {
     "name": "stdout",
     "output_type": "stream",
     "text": [
      "Ridge Regression with CV\n",
      "Best alpha: 0.1\n",
      "Training MSE: 0.5179331264806069\n",
      "Test MSE: 0.5558875470324994\n"
     ]
    }
   ],
   "source": [
    "ridge_reg_cv = RidgeCV(alphas=alphas, cv=5)\n",
    "ridge_reg_cv.fit(X_train, y_train)\n",
    "\n",
    "ridge_cv_train_pred = ridge_reg_cv.predict(X_train)\n",
    "ridge_cv_test_pred = ridge_reg_cv.predict(X_test)\n",
    "\n",
    "mse_ridge_cv_train = mean_squared_error(y_train, ridge_cv_train_pred)\n",
    "mse_ridge_cv_test = mean_squared_error(y_test, ridge_cv_test_pred)\n",
    "\n",
    "print('Ridge Regression with CV')\n",
    "print('Best alpha:', ridge_reg_cv.alpha_)\n",
    "print('Training MSE:', mse_ridge_cv_train)\n",
    "print('Test MSE:', mse_ridge_cv_test)"
   ]
  },
  {
   "cell_type": "markdown",
   "id": "5da658c3-e827-43b6-92ee-980bd2cee0b0",
   "metadata": {},
   "source": [
    "## 2. Lasso Regression with Cross-Validation"
   ]
  },
  {
   "cell_type": "code",
   "execution_count": 14,
   "id": "625f62e0-e39b-4f9e-b30c-63306257c156",
   "metadata": {},
   "outputs": [
    {
     "name": "stdout",
     "output_type": "stream",
     "text": [
      "\n",
      "Lasso Regression with CV\n",
      "Best alpha: 0.001\n",
      "Training MSE: 0.5179922809505753\n",
      "Test MSE: 0.5544062174455687\n"
     ]
    }
   ],
   "source": [
    "lasso_reg_cv = LassoCV(alphas=alphas, cv=5)\n",
    "lasso_reg_cv.fit(X_train, y_train)\n",
    "\n",
    "lasso_cv_train_pred = lasso_reg_cv.predict(X_train)\n",
    "lasso_cv_test_pred = lasso_reg_cv.predict(X_test)\n",
    "\n",
    "mse_lasso_cv_train =mean_squared_error(y_train, lasso_cv_train_pred)\n",
    "mse_lasso_cv_test = mean_squared_error(y_test, lasso_cv_test_pred)\n",
    "\n",
    "print('\\nLasso Regression with CV')\n",
    "print('Best alpha:', lasso_reg_cv.alpha_)\n",
    "print('Training MSE:', mse_lasso_cv_train)\n",
    "print('Test MSE:', mse_lasso_cv_test)\n"
   ]
  },
  {
   "cell_type": "markdown",
   "id": "ddb329a5-352f-4f00-a92e-86f624806648",
   "metadata": {},
   "source": [
    "# Summary & Conculsion"
   ]
  },
  {
   "cell_type": "code",
   "execution_count": 15,
   "id": "7e0c5a82-fe14-4558-bf3f-8236a6e7b47f",
   "metadata": {},
   "outputs": [],
   "source": [
    "mse_train = [mse_lin_reg_train, mse_ridge_train,mse_lasso_train, mse_ridge_cv_train,mse_lasso_cv_train]\n",
    "mse_test = [mse_lin_reg_test, mse_ridge_test,mse_lasso_test, mse_ridge_cv_test,mse_lasso_cv_test]\n",
    "index = ['Training_set', 'Test_set']\n",
    "columns  = ['LinearReg', 'RidgeWithoutCV', 'RidgeCV', 'LassoWhitoutCV', 'LassoCV']"
   ]
  },
  {
   "cell_type": "code",
   "execution_count": 16,
   "id": "750ce159-1eb9-4623-b91f-b83e6d52638c",
   "metadata": {},
   "outputs": [
    {
     "data": {
      "text/html": [
       "<div>\n",
       "<style scoped>\n",
       "    .dataframe tbody tr th:only-of-type {\n",
       "        vertical-align: middle;\n",
       "    }\n",
       "\n",
       "    .dataframe tbody tr th {\n",
       "        vertical-align: top;\n",
       "    }\n",
       "\n",
       "    .dataframe thead th {\n",
       "        text-align: right;\n",
       "    }\n",
       "</style>\n",
       "<table border=\"1\" class=\"dataframe\">\n",
       "  <thead>\n",
       "    <tr style=\"text-align: right;\">\n",
       "      <th></th>\n",
       "      <th>LinearReg</th>\n",
       "      <th>RidgeWithoutCV</th>\n",
       "      <th>RidgeCV</th>\n",
       "      <th>LassoWhitoutCV</th>\n",
       "      <th>LassoCV</th>\n",
       "    </tr>\n",
       "  </thead>\n",
       "  <tbody>\n",
       "    <tr>\n",
       "      <th>Training_set</th>\n",
       "      <td>0.517933</td>\n",
       "      <td>0.517933</td>\n",
       "      <td>0.671754</td>\n",
       "      <td>0.517933</td>\n",
       "      <td>0.517992</td>\n",
       "    </tr>\n",
       "    <tr>\n",
       "      <th>Test_set</th>\n",
       "      <td>0.555892</td>\n",
       "      <td>0.555851</td>\n",
       "      <td>0.679552</td>\n",
       "      <td>0.555888</td>\n",
       "      <td>0.554406</td>\n",
       "    </tr>\n",
       "  </tbody>\n",
       "</table>\n",
       "</div>"
      ],
      "text/plain": [
       "              LinearReg  RidgeWithoutCV   RidgeCV  LassoWhitoutCV   LassoCV\n",
       "Training_set   0.517933        0.517933  0.671754        0.517933  0.517992\n",
       "Test_set       0.555892        0.555851  0.679552        0.555888  0.554406"
      ]
     },
     "execution_count": 16,
     "metadata": {},
     "output_type": "execute_result"
    }
   ],
   "source": [
    "results_reg = pd.DataFrame([mse_train, mse_test], index = index, columns = columns)\n",
    "results_reg"
   ]
  },
  {
   "cell_type": "code",
   "execution_count": 17,
   "id": "001761ad-43c7-40ea-946e-3c61ec049dd0",
   "metadata": {},
   "outputs": [
    {
     "data": {
      "text/plain": [
       "LassoCV           0.554406\n",
       "RidgeWithoutCV    0.555851\n",
       "LassoWhitoutCV    0.555888\n",
       "LinearReg         0.555892\n",
       "RidgeCV           0.679552\n",
       "Name: Test_set, dtype: float64"
      ]
     },
     "execution_count": 17,
     "metadata": {},
     "output_type": "execute_result"
    }
   ],
   "source": [
    "results_reg.loc['Test_set'].sort_values()"
   ]
  },
  {
   "cell_type": "code",
   "execution_count": 18,
   "id": "1de71db2-da3f-4480-b081-c597bbc8e2ac",
   "metadata": {},
   "outputs": [
    {
     "name": "stdout",
     "output_type": "stream",
     "text": [
      "Average cross-validation score for Linear Regression:  0.5582901717686556\n"
     ]
    }
   ],
   "source": [
    "# Print the average MSE for linear regression\n",
    "print(\"Average cross-validation score for Linear Regression: \", mse_lin_reg_CV)"
   ]
  },
  {
   "cell_type": "markdown",
   "id": "388f15b8-7beb-4dae-96f9-722530ba63d2",
   "metadata": {},
   "source": [
    "LassoCV has the lowest MSE, making it the best model.\n",
    "\n",
    "Thus, the best model is a lasso regression with alpha = 0.001"
   ]
  }
 ],
 "metadata": {
  "kernelspec": {
   "display_name": "Python 3 (ipykernel)",
   "language": "python",
   "name": "python3"
  },
  "language_info": {
   "codemirror_mode": {
    "name": "ipython",
    "version": 3
   },
   "file_extension": ".py",
   "mimetype": "text/x-python",
   "name": "python",
   "nbconvert_exporter": "python",
   "pygments_lexer": "ipython3",
   "version": "3.9.12"
  }
 },
 "nbformat": 4,
 "nbformat_minor": 5
}
